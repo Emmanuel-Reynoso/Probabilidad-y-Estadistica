{
 "cells": [
  {
   "cell_type": "markdown",
   "metadata": {},
   "source": [
    "<h1> <center> Probabilidad y Estadística</center> </h1>\n",
    "<h3> <center> Parte II:</center></h3>\n",
    "<h1> <center> Inferencia Estadística </center></h1>  \n",
    "\n",
    "---\n",
    "<h1> <center>Práctico - 6</center></h1>"
   ]
  },
  {
   "cell_type": "code",
   "execution_count": 1,
   "metadata": {},
   "outputs": [],
   "source": [
    "import sys\n",
    "sys.path.insert(0,'./modules')\n",
    "import practico6 as p6"
   ]
  },
  {
   "cell_type": "markdown",
   "metadata": {},
   "source": [
    "---\n",
    "### Ejercicio 1\n",
    "Dada una muestra de 150 productos se obtiene lo siguiente: \n",
    "```\n",
    "imperfecciones: 0 | 1 | 2 | 3 | 4 | 5| 6| 7  \n",
    "frecuencia:    18 | 37| 42| 30| 13| 7| 2| 1  \n",
    "``` \n",
    "Sea X: \"número de imperfecciones en una pieza\", v.a. con distribucción de Poisson: \n",
    "* a) Encuentre un estimador insesgado de λ, y estime su valor.\n",
    "* b) Cual es el desvío estandar del estimador? Calcule el error estandar estimado"
   ]
  },
  {
   "cell_type": "code",
   "execution_count": 2,
   "metadata": {},
   "outputs": [
    {
     "name": "stdout",
     "output_type": "stream",
     "text": [
      "a) un estimador insesgado es X barra. su valor es: 2.113\n",
      "b) desvio del estimador: 0.117\n",
      "   error estandar estimado: 0.117\n"
     ]
    }
   ],
   "source": [
    "p6.ej1()"
   ]
  },
  {
   "cell_type": "markdown",
   "metadata": {},
   "source": [
    "---\n",
    "### Ejercicio 2\n",
    "dadas muestras aleatorias independientes X, Y con media e1, e2 y desvio d1, d2 respectivamente. \n",
    "* a) Si se obtuvieron las siguientes observaciones:  \n",
    "    `X = [5.9, 7.2, 7.3, 6.3, 8.1, 6.8, 7.0, 7.6, 6.8, 6.5, 7.0, 6.3, 7.9, 9.0, 8.2, 8.7, 7.8, 9.7, 7.4, 7.7]`  \n",
    "    `Y = [6.1, 5.8, 7.8, 7.1, 7.2, 9.2, 6.6, 8.3, 7.0, 8.3, 7.8, 8.1, 7.4, 8.5, 8.9, 9.8, 9.7, 14.1, 12.6, 11.2]`  \n",
    "    calcule una estimacion para e1, e2, d1, d2\n",
    "* b) de un estimador insesgado de e1-e2. Calcule una estimacion del mismo.\n",
    "* c) Obtenga la varianza y error estandar del estimador del inciso b.\n",
    "* d) Calcule una estimacion puntual de la relacion d1/d2"
   ]
  },
  {
   "cell_type": "code",
   "execution_count": 3,
   "metadata": {},
   "outputs": [
    {
     "name": "stdout",
     "output_type": "stream",
     "text": [
      "a) e1 = 7.460\n",
      "   e2 = 8.575\n",
      "   d1 = 0.941\n",
      "   d2 = 2.051\n",
      "b) E(X-Y) es un estimador insesgado.\n",
      "   E(X-Y) = -1.115\n",
      "c) V(X-Y) = 8.951\n",
      "    error = 2.992\n",
      "d) 0.459\n"
     ]
    }
   ],
   "source": [
    "p6.ej2()"
   ]
  },
  {
   "cell_type": "markdown",
   "metadata": {},
   "source": [
    "---\n",
    "### Ejercicio 3\n",
    "Se tienen n1, n2 fumadores y fumadoras. X1, X2 de los mismos fuman con filtro. Sean p1, p2 las probabilidades de que un hombre o una mujer seleccionados al azar fumen con filtro.\n",
    "* c) si n1 = n2 = 200, x1 = 127, x2 = 176; dé una estimacion de p1 - p2.\n",
    "* d) cual es el error estandar del estimador?"
   ]
  },
  {
   "cell_type": "code",
   "execution_count": 4,
   "metadata": {},
   "outputs": [
    {
     "name": "stdout",
     "output_type": "stream",
     "text": [
      "c)valor estimado: -0.245\n",
      "d) error estandar estimado: 0.041\n"
     ]
    }
   ],
   "source": [
    "p6.ej3()"
   ]
  },
  {
   "cell_type": "markdown",
   "metadata": {},
   "source": [
    "---\n",
    "### Ejercicio 4\n",
    "Sea X1,X2,...,Xn una muestra aleatoria, donde cada Xi tiene media e y varianza v.\n",
    "* a) Demuestre que `X**2` no es un estimador insesgado para `e**2`.\n",
    "* b) Para qué valor de k el estimador `X**2 - kS**2` es insesgado para `e**2`\n",
    "\n",
    "```\n",
    "------------\n",
    "a)\n",
    "E(X**2) = V(X) - E(X)**2 = V(sum(xi)/n) - E(sum(xi)/n)**2 \n",
    "        = v/n + 1/n**2 * (n*e)**2 \n",
    "        = v/n + e**2\n",
    "  e**2 != v/n + e**2\n",
    "b) k = 1/n\n",
    "\n",
    "```"
   ]
  },
  {
   "cell_type": "markdown",
   "metadata": {},
   "source": [
    "---\n",
    "### Ejercicio 5\n",
    "Sea X1,...,Xn muestra aleatoria de la funcion de densidad:\n",
    "```\n",
    "f(x) = 0.5 * (1+θx) si -1 <= x <= 1\n",
    "f(x) = 0 cc\n",
    "``` \n",
    "* Demostrar que 3X es un estimador insesgado de θ  \n",
    "\n",
    "```\n",
    "------------\n",
    " E(X) = integrate x*f(x) dx from -inf to inf \n",
    "      = 1/2 * integrate x + θx**2 dx from -1 to 1\n",
    "      = 1/2 * (θ/3 + θ/3)\n",
    "      = θ/3\n",
    "E(3X) = θ\n",
    "```"
   ]
  },
  {
   "cell_type": "markdown",
   "metadata": {},
   "source": [
    "---\n",
    "### Ejercicio 6\n",
    "Sea X variable aleatoria de la funcion de densidad:\n",
    "```\n",
    "f(x) = x**θ * (1+θ) si 0 <= x <= 1\n",
    "f(x) = 0 cc\n",
    "``` \n",
    "* a) Usando el Método de los momentos obtenga un estimador de θ.\n",
    "* b) se toma una muestra aleatoria de 10 estudiantes.\n",
    "` Y = []"
   ]
  },
  {
   "cell_type": "code",
   "execution_count": 5,
   "metadata": {},
   "outputs": [],
   "source": [
    "p6.ej6()"
   ]
  },
  {
   "cell_type": "markdown",
   "metadata": {},
   "source": [
    "@mauroebordon"
   ]
  }
 ],
 "metadata": {
  "kernelspec": {
   "display_name": "Python 3",
   "language": "python",
   "name": "python3"
  },
  "language_info": {
   "codemirror_mode": {
    "name": "ipython",
    "version": 3
   },
   "file_extension": ".py",
   "mimetype": "text/x-python",
   "name": "python",
   "nbconvert_exporter": "python",
   "pygments_lexer": "ipython3",
   "version": "3.6.9"
  }
 },
 "nbformat": 4,
 "nbformat_minor": 4
}
