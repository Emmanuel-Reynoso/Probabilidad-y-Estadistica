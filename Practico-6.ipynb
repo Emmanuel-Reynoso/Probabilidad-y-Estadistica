{
 "cells": [
  {
   "cell_type": "markdown",
   "metadata": {},
   "source": [
    "# <center> Probabilidad y Estadística</center>\n",
    "### <center> Parte II:</center>\n",
    "# <center> Inferencia Estadística </center> \n",
    "---\n",
    "# <center>Práctico - 6</center>"
   ]
  },
  {
   "cell_type": "code",
   "execution_count": 1,
   "metadata": {},
   "outputs": [],
   "source": [
    "import sys\n",
    "sys.path.insert(0,'./modules')\n",
    "import practico6 as p6"
   ]
  },
  {
   "cell_type": "markdown",
   "metadata": {},
   "source": [
    "---\n",
    "### Ejercicio 1\n",
    "Dada una muestra de 150 productos se obtiene lo siguiente: \n",
    "```\n",
    "imperfecciones: 0 | 1 | 2 | 3 | 4 | 5| 6| 7  \n",
    "frecuencia:    18 | 37| 42| 30| 13| 7| 2| 1  \n",
    "``` \n",
    "Sea X: \"número de imperfecciones en una pieza\", v.a. con distribucción de Poisson: \n",
    "* a) Encuentre un estimador insesgado de λ, y estime su valor.\n",
    "* b) Cual es el desvío estandar del estimador? Calcule el error estandar estimado"
   ]
  },
  {
   "cell_type": "code",
   "execution_count": 2,
   "metadata": {},
   "outputs": [
    {
     "name": "stdout",
     "output_type": "stream",
     "text": [
      "a) un estimador insesgado es X barra. su valor es: 2.113\n",
      "b) desvio del estimador: 0.117\n",
      "   error estandar estimado: 0.117\n"
     ]
    }
   ],
   "source": [
    "p6.ej1()"
   ]
  },
  {
   "cell_type": "markdown",
   "metadata": {},
   "source": [
    "@mauroebordon"
   ]
  }
 ],
 "metadata": {
  "kernelspec": {
   "display_name": "Python 3",
   "language": "python",
   "name": "python3"
  },
  "language_info": {
   "codemirror_mode": {
    "name": "ipython",
    "version": 3
   },
   "file_extension": ".py",
   "mimetype": "text/x-python",
   "name": "python",
   "nbconvert_exporter": "python",
   "pygments_lexer": "ipython3",
   "version": "3.6.9"
  }
 },
 "nbformat": 4,
 "nbformat_minor": 4
}
