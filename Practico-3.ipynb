{
 "cells": [
  {
   "cell_type": "markdown",
   "metadata": {},
   "source": [
    "\n",
    "# Probabilidad y Estadistica\n",
    "\n",
    "## Practico - 3"
   ]
  },
  {
   "cell_type": "code",
   "execution_count": 1,
   "metadata": {},
   "outputs": [],
   "source": [
    "import numpy as np\n",
    "import math\n",
    "import practico2 as p2"
   ]
  },
  {
   "cell_type": "markdown",
   "metadata": {},
   "source": [
    "---\n",
    "### Ejercicio 1\n",
    "* a) La suma de las probabilidades en una misma distribución debería ser 1, por lo que la segunda fila es una función de probabilidad.\n",
    "* b) "
   ]
  },
  {
   "cell_type": "markdown",
   "metadata": {},
   "source": [
    "---\n",
    "### Ejercicio 2\n"
   ]
  },
  {
   "cell_type": "markdown",
   "metadata": {},
   "source": [
    "---\n",
    "### Ejercicio 3\n"
   ]
  },
  {
   "cell_type": "markdown",
   "metadata": {},
   "source": [
    "---\n",
    "### Ejercicio 4"
   ]
  },
  {
   "cell_type": "markdown",
   "metadata": {},
   "source": [
    "---\n",
    "### Ejercicio 5\n"
   ]
  },
  {
   "cell_type": "markdown",
   "metadata": {},
   "source": [
    "---\n",
    "### Ejercicio 6\n"
   ]
  },
  {
   "cell_type": "markdown",
   "metadata": {},
   "source": [
    "---\n",
    "### Ejercicio 7\n"
   ]
  },
  {
   "cell_type": "markdown",
   "metadata": {},
   "source": [
    "---\n",
    "### Ejercicio 8\n"
   ]
  },
  {
   "cell_type": "markdown",
   "metadata": {},
   "source": [
    "---\n",
    "### Ejercicio 9\n",
    "* a) 6/10 \\* 8/11 = 0.4363636\n",
    "* b) 4/10 \\* 4/11 + 0.4363636 = 0.1454545 + 0.4363636 = 0.5818181 "
   ]
  },
  {
   "cell_type": "markdown",
   "metadata": {},
   "source": [
    "---\n",
    "### Ejercicio 10\n",
    "* a) como P(B) existe, entonces existe un valor para P(B|A) y P(B|A<sup>c</sup>).  \n",
    "P(A∩B)/P(B) + P(A<sup>c</sup>∩B)/P(B) = P((A∩B)∪(A<sup>c</sup>∩B))/P(B) = P((A∪A<sup>c</sup>)∩B)/P(B) = P(B)/P(B) = 1.  \n",
    "Por lo tanto P(B|A) + P(B|A<sup>c</sup>) = 1\n",
    "* b) P(B|A) > P(B) => 1 - P(B<sup>c</sup>|A) > 1 - P(B<sup>c</sup>) = > - P(B<sup>c</sup>|A) > - P(B<sup>c</sup>) => P(B<sup>c</sup>|A) < P(B<sup>c</sup>)\n",
    "* c) P(A∪B|C) = P((A∪B)∩C)/P(C) = P((A∩C)∪(B∩C))/P(C) = (P(A∩C) + P(B∩C) - P(A∩B∩C))/P(C) = P(A|C) + P(B|C) - P(A∩B|C)"
   ]
  },
  {
   "cell_type": "markdown",
   "metadata": {},
   "source": [
    "---\n",
    "### Ejercicio 11\n",
    "* a) P(Positivo|Enfermo) = 0.99, P(Positivo|Sano) = 0.02  \n",
    "    1/25 \\* 0.99 + 24/25 \\* 0.02 = 0.0588\n",
    "* b) P(E|Pos) = P(Pos|E) \\* P(E)/P(Pos) = (0.99 \\* 1/25) / 0.0588 = 0.6735\n",
    "* c) P(S|Neg) = P(Neg|S) \\* P(S) / P(Neg) = 0.98 \\* 24/25 / 0.9412 = 0.999"
   ]
  },
  {
   "cell_type": "markdown",
   "metadata": {},
   "source": [
    "---\n",
    "### Ejercicio 12\n",
    "dado P(B) = P(B|A) y P(A) = P(A|B)  \n",
    "podemos obtener: 1 - P(A<sup>c</sup>) = 1 - P(A<sup>c</sup>|B) => P(A<sup>c</sup>) = P(A<sup>c</sup>|B). Por lo tanto A<sup>c</sup> y B son independientes.    \n",
    "La prueba para A y B<sup>c</sup> es analoga.   \n",
    "P(A<sup>c</sup>) = P(A<sup>c</sup>|B)   \n",
    "P(A<sup>c</sup>) = P(B|A<sup>c</sup>)\\*P(A<sup>c</sup>)/P(B)  \n",
    "1 = P(B|A<sup>c</sup>)/P(B)  \n",
    "Comprobamos que la recripoca tambien vale P(B) = P(B|A<sup>c</sup>)  \n",
    "Y ahora simplementa lo complementamos como al principio y probamos que\n",
    "A<sup>c</sup> y B<sup>c</sup> son independientes"
   ]
  },
  {
   "cell_type": "markdown",
   "metadata": {},
   "source": [
    "---\n",
    "### Ejercicio 13"
   ]
  },
  {
   "cell_type": "code",
   "execution_count": 2,
   "metadata": {},
   "outputs": [
    {
     "name": "stdout",
     "output_type": "stream",
     "text": [
      "* a) P(D) = 1 - 0.86**(1/25) = 0.006\n",
      "* b) P(D) = 1 - 0.90**(1/25) = 0.004\n"
     ]
    }
   ],
   "source": [
    "p2.ej13()"
   ]
  },
  {
   "cell_type": "markdown",
   "metadata": {},
   "source": [
    "---\n",
    "### Ejercicio 14\n",
    "* P(A) = 2/10 = 0.2\n",
    "* P(B) = 8/10 \\* 2/9 + 2/10 \\* 1/9 = 0.2\n",
    "* P(A∩B) = 2/10 * 1/9 = 1/45  \n",
    "A y B no son independientes"
   ]
  },
  {
   "cell_type": "markdown",
   "metadata": {},
   "source": [
    "@mauroebordon"
   ]
  }
 ],
 "metadata": {
  "kernelspec": {
   "display_name": "Python 3",
   "language": "python",
   "name": "python3"
  },
  "language_info": {
   "codemirror_mode": {
    "name": "ipython",
    "version": 3
   },
   "file_extension": ".py",
   "mimetype": "text/x-python",
   "name": "python",
   "nbconvert_exporter": "python",
   "pygments_lexer": "ipython3",
   "version": "3.6.9"
  }
 },
 "nbformat": 4,
 "nbformat_minor": 4
}
