{
 "cells": [
  {
   "cell_type": "markdown",
   "metadata": {},
   "source": [
    "\n",
    "# Probabilidad y Estadistica\n",
    "\n",
    "## Practico - 3"
   ]
  },
  {
   "cell_type": "code",
   "execution_count": 1,
   "metadata": {},
   "outputs": [],
   "source": [
    "import numpy as np\n",
    "import math\n",
    "import practico3 as p3"
   ]
  },
  {
   "cell_type": "markdown",
   "metadata": {},
   "source": [
    "---\n",
    "### Ejercicio 1\n",
    "* a) La suma de las probabilidades en una misma distribución debería ser 1, por lo que la segunda fila es una función de probabilidad.\n",
    "* b) P(2 <= X <= 4) = 0.1 + 0.1 + 0.3 = 0.5,  \n",
    "    P(X <= 2) = 0.4 + 0.1 + 0.1 = 0.6\n",
    "    P(X != 0) = 0.1 + 0.1 + 0.1 + 0. 3 = 0.6\n",
    "* c)\n",
    "```\n",
    "acum :: Num -> Num\n",
    "acum 0 = 0.4\n",
    "acum 1 = 0.5\n",
    "acum 2 = 0.6\n",
    "acum 3 = 0.7\n",
    "acum 4 = 1\n",
    "```\n",
    "* d) k = 1/15"
   ]
  },
  {
   "cell_type": "markdown",
   "metadata": {},
   "source": [
    "---\n",
    "### Ejercicio 2\n",
    "* a) A = 0.1 + 0.15 + 0.2 + 0.25  = 0.7\n",
    "* b) B = 0.45\n",
    "* c) C = 0.25 + 0.2 + 0.06 + 0.04 = 0.55\n",
    "* d) D = 0.71\n",
    "* e) E = 0.65\n",
    "* f) F = 0.30\n",
    "* g) \n",
    "```\n",
    "acum :: Num -> Num\n",
    "acum 0 = 0.1\n",
    "acum 1 = 0.25\n",
    "acum 2 = 0.45\n",
    "acum 3 = 0.70\n",
    "acum 4 = 0.90\n",
    "acum 5 = 0.96\n",
    "acum 6 = 1\n",
    "```"
   ]
  },
  {
   "cell_type": "markdown",
   "metadata": {},
   "source": [
    "---\n",
    "### Ejercicio 3\n",
    "* a)\n",
    "```\n",
    "P(1) = 1/3 \n",
    "P(2) = 2/3 * 1/3  = 2/9\n",
    "P(3) = (2/3)**2 * 1/3 = 4/27\n",
    ".\n",
    ".\n",
    "P(n) = (2/3)**(n-1) * 1/3\n",
    "```\n",
    "* b) \n",
    "```\n",
    "acum :: Num -> Num\n",
    "acum 0 = 0\n",
    "acum n | 0 < n = P(n)+acum(n-1)\n",
    "         | otherwise = -Inf\n",
    "```\n",
    "* c) `P(n) = (2/3)**n * 1/3` para todo n tal que 1 < n."
   ]
  },
  {
   "cell_type": "markdown",
   "metadata": {},
   "source": [
    "---\n",
    "### Ejercicio 4\n",
    "* a)\n",
    "```\n",
    "function prob(x):\n",
    "    if x < 1: return 0\n",
    "    if 1 <= x < 3: return 0.3\n",
    "    if 3 <= x < 4: return 0.1\n",
    "    if 4 <= x < 6: return 0.05\n",
    "    if 6 <= x < 12: return 0.15\n",
    "    else: return 0.4\n",
    "```\n",
    "* b) P(3 <= X <= 6) = F(6) - F(2) = 0.6 - 0.3 = 0.3   \n",
    "    P(4 <= X) = F(12) - F(3) = 1 - 0.4 = 0.6\n"
   ]
  },
  {
   "cell_type": "markdown",
   "metadata": {},
   "source": [
    "---\n",
    "### Ejercicio 5\n"
   ]
  },
  {
   "cell_type": "markdown",
   "metadata": {},
   "source": [
    "---\n",
    "### Ejercicio 6\n"
   ]
  },
  {
   "cell_type": "markdown",
   "metadata": {},
   "source": [
    "---\n",
    "### Ejercicio 7\n"
   ]
  },
  {
   "cell_type": "markdown",
   "metadata": {},
   "source": [
    "---\n",
    "### Ejercicio 8\n"
   ]
  },
  {
   "cell_type": "markdown",
   "metadata": {},
   "source": [
    "@mauroebordon"
   ]
  }
 ],
 "metadata": {
  "kernelspec": {
   "display_name": "Python 3",
   "language": "python",
   "name": "python3"
  },
  "language_info": {
   "codemirror_mode": {
    "name": "ipython",
    "version": 3
   },
   "file_extension": ".py",
   "mimetype": "text/x-python",
   "name": "python",
   "nbconvert_exporter": "python",
   "pygments_lexer": "ipython3",
   "version": "3.6.9"
  }
 },
 "nbformat": 4,
 "nbformat_minor": 4
}
