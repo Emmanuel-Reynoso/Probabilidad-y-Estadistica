{
 "cells": [
  {
   "cell_type": "markdown",
   "metadata": {},
   "source": [
    "\n",
    "# Probabilidad y Estadistica\n",
    "\n",
    "## Practico - 3"
   ]
  },
  {
   "cell_type": "code",
   "execution_count": 1,
   "metadata": {},
   "outputs": [],
   "source": [
    "import numpy as np\n",
    "import math\n",
    "import practico3 as p3"
   ]
  },
  {
   "cell_type": "markdown",
   "metadata": {},
   "source": [
    "---\n",
    "### Resolución ejercicio 1 \n",
    "* a) La suma de las probabilidades en una misma distribución debería ser 1, por lo que la segunda fila es una función de probabilidad.\n",
    "* b) P(2 <= X <= 4) = 0.1 + 0.1 + 0.3 = 0.5,  \n",
    "    P(X <= 2) = 0.4 + 0.1 + 0.1 = 0.6  \n",
    "    P(X != 0) = 0.1 + 0.1 + 0.1 + 0. 3 = 0.6\n",
    "* c)\n",
    "```\n",
    "acum :: Num -> Num\n",
    "acum 0 = 0.4\n",
    "acum 1 = 0.5\n",
    "acum 2 = 0.6\n",
    "acum 3 = 0.7\n",
    "acum 4 = 1\n",
    "```\n",
    "* d) k = 1/15"
   ]
  },
  {
   "cell_type": "markdown",
   "metadata": {},
   "source": [
    "---\n",
    "### Resolución ejercicio 2\n",
    "* a) A = 0.1 + 0.15 + 0.2 + 0.25  = 0.7\n",
    "* b) B = 0.45\n",
    "* c) C = 0.25 + 0.2 + 0.06 + 0.04 = 0.55\n",
    "* d) D = 0.71\n",
    "* e) E = 0.65\n",
    "* f) F = 0.30\n",
    "* g) \n",
    "```\n",
    "acum :: Num -> Num\n",
    "acum 0 = 0.1\n",
    "acum 1 = 0.25\n",
    "acum 2 = 0.45\n",
    "acum 3 = 0.70\n",
    "acum 4 = 0.90\n",
    "acum 5 = 0.96\n",
    "acum 6 = 1\n",
    "```"
   ]
  },
  {
   "cell_type": "markdown",
   "metadata": {},
   "source": [
    "---\n",
    "### Resolución ejercicio 3\n",
    "* a)\n",
    "```\n",
    "P(1) = 1/3 \n",
    "P(2) = 2/3 * 1/3  = 2/9\n",
    "P(3) = (2/3)**2 * 1/3 = 4/27\n",
    ".\n",
    ".\n",
    "P(n) = (2/3)**(n-1) * 1/3\n",
    "```\n",
    "* b) \n",
    "```\n",
    "acum :: Num -> Num\n",
    "acum 0 = 0\n",
    "acum n | 0 < n = P(n)+acum(n-1)\n",
    "         | otherwise = -Inf\n",
    "```\n",
    "* c) `P(n) = (2/3)**n * 1/3` para todo n tal que 1 < n."
   ]
  },
  {
   "cell_type": "markdown",
   "metadata": {},
   "source": [
    "---\n",
    "### Resolución ejercicio 4\n",
    "* a)\n",
    "```\n",
    "function prob(x):\n",
    "    if x < 1: return 0\n",
    "    if 1 <= x < 3: return 0.3\n",
    "    if 3 <= x < 4: return 0.1\n",
    "    if 4 <= x < 6: return 0.05\n",
    "    if 6 <= x < 12: return 0.15\n",
    "    else: return 0.4\n",
    "```\n",
    "* b) P(3 <= X <= 6) = F(6) - F(2) = 0.6 - 0.3 = 0.3   \n",
    "    P(4 <= X) = F(12) - F(3) = 1 - 0.4 = 0.6\n"
   ]
  },
  {
   "cell_type": "markdown",
   "metadata": {},
   "source": [
    "---\n",
    "### Resolución ejercicio 5\n",
    "* a) `E(X) = 1*(1/6)+2*(1/6)+3*(1/6)+4*(1/6)+5*(1/6)+6*(1/6) = 3.5`  \n",
    "    `E(1/X) = (1/6)*(1 + 1/2 + 1/3 + 1/4 + 1/5 + 1/6) = 0.408`  \n",
    "* B) `1/0.35 = 0.286` Por lo tanto le conviene seguir jugando."
   ]
  },
  {
   "cell_type": "markdown",
   "metadata": {},
   "source": [
    "---\n",
    "### Ejercicio 6\n",
    "dado la siguiente distribución de probabilidad  \n",
    "`x = [13.5, 15.9, 19.1]`  \n",
    "`p(x) = [0.2, 0.5, 0.3]`\n",
    "* a) calcular E(X), E(X\\*\\*2), V(X)\n",
    "* b) calcular E(Y) y V(Y) con Y = 25\\*X - 8.5\n",
    "* c) sea h(X) = X - 0.01\\*X\\*\\*2. Calcule E(h(x))"
   ]
  },
  {
   "cell_type": "code",
   "execution_count": 2,
   "metadata": {},
   "outputs": [
    {
     "name": "stdout",
     "output_type": "stream",
     "text": [
      "a) E(X) = 16.38  E(X**2) = 272.30 y V(X) = 3.99\n",
      "b) E(Y) = 401.00 y V(Y) = 2496.00\n",
      "c) E(h(X)) = 13.70\n"
     ]
    }
   ],
   "source": [
    "p3.ej6()"
   ]
  },
  {
   "cell_type": "markdown",
   "metadata": {},
   "source": [
    "---\n",
    "### Ejercicio 7\n",
    "Si la probabilidad de éxito es de 0.2, y se estudian 20 casos.\n",
    "* i) a lo sumo 5 tienen éxito\n",
    "* ii) exactamente 5 éxitos.\n",
    "* iii) al menos 5 éxitos\n",
    "* b) calcular E(X)"
   ]
  },
  {
   "cell_type": "code",
   "execution_count": 3,
   "metadata": {},
   "outputs": [
    {
     "name": "stdout",
     "output_type": "stream",
     "text": [
      "i) 0.8042\n",
      "ii) 0.1746\n",
      "iii) 0.3704\n",
      "b) 4.0000\n"
     ]
    }
   ],
   "source": [
    "p3.ej7()"
   ]
  },
  {
   "cell_type": "markdown",
   "metadata": {},
   "source": [
    "---\n",
    "### Ejercicio 8\n",
    "dada una probabilidad de éxito(tamaño grande) de 0.6  \n",
    "* a) probabilidad de a lo sumo 6 éxitos en 10 casos\n",
    "* b) en 10 casos calcule la probabilidad de que el número de éxitos este dentro de la desviación estándar del valor medio \n",
    "* c) si el limite es de  6 éxitos y 6 fallos. Calcule la probabilidad que dados 10 casos no se sobrepase el límite.  "
   ]
  },
  {
   "cell_type": "code",
   "execution_count": 4,
   "metadata": {},
   "outputs": [
    {
     "name": "stdout",
     "output_type": "stream",
     "text": [
      "a) 0.6177\n",
      "b) limite izquierdo: 4 limite derecho: 8\n",
      "   P(4<=X<=8) = 0.899\n",
      "c) 0.563\n"
     ]
    }
   ],
   "source": [
    "p3.ej8()"
   ]
  },
  {
   "cell_type": "markdown",
   "metadata": {},
   "source": [
    "---\n",
    "### Ejercicio 9\n",
    "dado P(Garantía) = 0.2\n",
    "* a) dados 20 casos, calcule el numero esperado de productos sin garantía.\n",
    "* b) dados 20 casos, calcule el numero esperado de productos con garantía.\n",
    "* c) dados 20 casos, calcule la probabilidad de que al menos 75% no tenga garantía.\n",
    "* d) dados 12 casos, 4 con garantía. si se eligen 5 al azar. calcular la esperanza y varianza del numero de aparatos con garantía en esa selección."
   ]
  },
  {
   "cell_type": "code",
   "execution_count": 5,
   "metadata": {},
   "outputs": [
    {
     "name": "stdout",
     "output_type": "stream",
     "text": [
      "a) E(Sin Garantia) = 16.000\n",
      "b) E(Garantia) = 4.000\n",
      "c) P(5) = 0.804\n",
      "d) E(X) = 1.667 y V(X) = 0.707\n"
     ]
    }
   ],
   "source": [
    "p3.ej9()"
   ]
  },
  {
   "cell_type": "markdown",
   "metadata": {},
   "source": [
    "---\n",
    "### Ejercicio 10\n",
    "dados 10 casos, 7 son compresores. se toman 6.\n",
    "* a) calcule P(X=1), P(4<=X), P(3<=X=<5).\n",
    "* b) calcule E(X) y V(X)"
   ]
  },
  {
   "cell_type": "code",
   "execution_count": 6,
   "metadata": {},
   "outputs": [
    {
     "name": "stdout",
     "output_type": "stream",
     "text": [
      "i) 0\n",
      "ii) 0.833\n",
      "iii) 0.967\n",
      "b) E(X) = 4.208 y V(X) = 0.548\n"
     ]
    }
   ],
   "source": [
    "p3.ej10()"
   ]
  },
  {
   "cell_type": "markdown",
   "metadata": {},
   "source": [
    "---\n",
    "### Ejercicio 11\n",
    "dado P(varón) = 0.5, una pareja quiere tener dos niñas y tendrán hijos hasta lograrlo\n",
    "* a) probabilidad de tener x hijos varones.\n",
    "* b) probabilidad de tener 4 hijos.\n",
    "* c) probabilidad de tener a lo sumo 4 hijos.\n",
    "* d) Cuantos varones es el valor esperado? Cuantos hijos se esperaría de esta familia?"
   ]
  },
  {
   "cell_type": "markdown",
   "metadata": {},
   "source": [
    "p3.ej11()"
   ]
  },
  {
   "cell_type": "markdown",
   "metadata": {},
   "source": [
    "---\n",
    "### Ejercicio 12\n",
    "Sea X = \"numero de tornados observados en un año\" distribución de Poisson con λ = 8.\n",
    "* a) calcular: P(X <= 5), P(6 <= X =< 9), P(X >= 1).\n",
    "* b) E(X), desvío(X)"
   ]
  },
  {
   "cell_type": "code",
   "execution_count": 8,
   "metadata": {},
   "outputs": [
    {
     "name": "stdout",
     "output_type": "stream",
     "text": [
      "i) P(X <= 5) = 0.191\n",
      "ii) P(6 <= X <= 8) = 0.525\n",
      "iii) P(X >= 1) = 0.997\n",
      "b) E(X) = 8, desvio(X) = 2.828\n"
     ]
    }
   ],
   "source": [
    "p3.ej12()"
   ]
  },
  {
   "cell_type": "markdown",
   "metadata": {},
   "source": [
    "---\n",
    "### Ejercicio 13\n",
    "En un periodo de una entrada es usada de acuerdo a una distribución de Poisson con λ = 3, la segunda con λ = 4. Cual es la chance de que las entradas se usen 3 veces en total?"
   ]
  },
  {
   "cell_type": "code",
   "execution_count": 9,
   "metadata": {},
   "outputs": [
    {
     "name": "stdout",
     "output_type": "stream",
     "text": [
      "la probabilidad es de 0.052\n"
     ]
    }
   ],
   "source": [
    "p3.ej13()"
   ]
  },
  {
   "cell_type": "markdown",
   "metadata": {},
   "source": [
    "---\n",
    "### Resolución ejercicio 14\n",
    "`E(X) = 50 - 2*E(Y) - E(Y**2)`  \n",
    "Dado que es Poisson podemos decir: `V(Y) = E(Y) = 2`,  \n",
    "Ahora vemos que `V(Y) = E(Y**2) - E(Y)**2`,  \n",
    "con lo que obtenemos: `E(Y**2) = 6`  \n",
    "Finalmente el resultado es 40.  "
   ]
  },
  {
   "cell_type": "markdown",
   "metadata": {},
   "source": [
    "@mauroebordon"
   ]
  }
 ],
 "metadata": {
  "kernelspec": {
   "display_name": "Python 3",
   "language": "python",
   "name": "python3"
  },
  "language_info": {
   "codemirror_mode": {
    "name": "ipython",
    "version": 3
   },
   "file_extension": ".py",
   "mimetype": "text/x-python",
   "name": "python",
   "nbconvert_exporter": "python",
   "pygments_lexer": "ipython3",
   "version": "3.6.9"
  }
 },
 "nbformat": 4,
 "nbformat_minor": 4
}