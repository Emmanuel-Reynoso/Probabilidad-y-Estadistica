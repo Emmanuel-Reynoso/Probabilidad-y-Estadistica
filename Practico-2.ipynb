{
 "cells": [
  {
   "cell_type": "markdown",
   "metadata": {},
   "source": [
    "\n",
    "# Probabilidad y Estadistica\n",
    "\n",
    "## Practico - 2"
   ]
  },
  {
   "cell_type": "code",
   "execution_count": 1,
   "metadata": {
    "scrolled": true
   },
   "outputs": [],
   "source": [
    "import matplotlib.pylab as plt\n",
    "import numpy as np\n",
    "import practico2 as p2"
   ]
  },
  {
   "cell_type": "markdown",
   "metadata": {},
   "source": [
    "---\n",
    "### Ejercicio 1\n",
    "* a) S = {3, 4, 5, (1,3), (1,4), (1,5), (2,3), (2,4), (2,5), (1,2,3), (1,2,4), (1,2,5)}  \n",
    "* b) A = {3,4,5}  \n",
    "* c) B = {5, (1,5), (2,5), (1,2,5)}  \n",
    "* d) C = {3, 4, 5, (2,3), (2,4), (2,5)}  \n",
    "* e) A∩B = {5}, A∪B = {3, 4, 5, (1,5), (2,5), (1,2,5)}  \n",
    "     (C∩B)<sup>c</sup> = S - {5,(2,5)}"
   ]
  },
  {
   "cell_type": "markdown",
   "metadata": {},
   "source": [
    "---\n",
    "### Ejercicio 2\n",
    "si A⊂B entonces podemos reescribir B de la siguiente forma:  \n",
    "B=A∪(B∩A<sup>c</sup>)  =>  P(B)=P(A∪(B∩A<sup>c</sup>))  =>  P(B)=P(A)+P(B∩A<sup>c</sup>)  =>  P(B)=P(A)+P(B-A)   \n",
    "por lo tanto `P(B-A) = P(B) - P(A)`  \n",
    "Como `P(x)∈[0,1]` (i.e. la probabilidad es siempre positiba) P(B) debe ser mayor o igual a P(A).    \n",
    ".------------------------.  \n",
    "**P(A∪B) = P(A) + P(B) - P(A∩B)**  \n",
    "**P(A∩B) = P(A) + P(B) - P(A∪B)**"
   ]
  },
  {
   "cell_type": "markdown",
   "metadata": {},
   "source": [
    "---\n",
    "### Ejercicio3\n",
    "* a) P(A∪B) = 0.22 + 0.25 - 0.11 = 0.36\n",
    "* b) P(A<sup>c</sup>∩B<sup>c</sup>) = P((A∪B)<sup>c</sup>) = 1 - 0.36 = 0.64 \n",
    "* c) P(A∪B∪C) = P(A) + P(B) + P(C) - P(A∩B) - P(B∩C) - P(A∩C) + P(A∩B∩C) = 0.53\n",
    "* d) P(A<sup>c</sup>∩B<sup>c</sup>∩C<sup>c</sup>) = P(A∪B∪C)<sup>c</sup> = 1 - 0.53 = 0.47\n",
    "* e) P(A<sup>c</sup>∩B<sup>c</sup>∩C) =<sup>1</sup> P(C) - ((P(B∩C) + P(A∩C)) = 0.28 - 0.09 - 0.05 = 0.16\n",
    "* f) P((A<sup>c</sup>∩B<sup>c</sup>)∪C)= 0.64<sup>2</sup> + 0.28 - 0.16<sup>3</sup> = 0.76\n",
    "\n",
    "<sup>1</sup>: usando diagramas para encontrar una ecuacion equivalente.  \n",
    "<sup>2</sup>: de b)  \n",
    "<sup>3</sup>: de e)  "
   ]
  },
  {
   "cell_type": "markdown",
   "metadata": {},
   "source": [
    "@mauroebordon"
   ]
  }
 ],
 "metadata": {
  "kernelspec": {
   "display_name": "Python 3",
   "language": "python",
   "name": "python3"
  },
  "language_info": {
   "codemirror_mode": {
    "name": "ipython",
    "version": 3
   },
   "file_extension": ".py",
   "mimetype": "text/x-python",
   "name": "python",
   "nbconvert_exporter": "python",
   "pygments_lexer": "ipython3",
   "version": "3.6.9"
  }
 },
 "nbformat": 4,
 "nbformat_minor": 4
}
