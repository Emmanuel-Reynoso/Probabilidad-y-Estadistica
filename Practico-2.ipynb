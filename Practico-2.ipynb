{
 "cells": [
  {
   "cell_type": "markdown",
   "metadata": {},
   "source": [
    " <h1 align=center> Probabilidad y Estadística</h1> \n",
    " <h3 align=center> Parte I:</h3>\n",
    "<h1 align=center> Probabilidad </h1>\n",
    "\n",
    "---\n",
    "<h1 align=center>Práctico - 2</h1>"
   ]
  },
  {
   "cell_type": "code",
   "execution_count": 1,
   "metadata": {},
   "outputs": [],
   "source": [
    "import sys\n",
    "sys.path.insert(0,'./modules')\n",
    "import practico2 as p2"
   ]
  },
  {
   "cell_type": "markdown",
   "metadata": {},
   "source": [
    "---\n",
    "### Resolución ejercicio 1\n",
    "* a) S = {3, 4, 5, (1,3), (1,4), (1,5), (2,3), (2,4), (2,5), (1,2,3), (1,2,4), (1,2,5)}  \n",
    "* b) A = {3,4,5}  \n",
    "* c) B = {5, (1,5), (2,5), (1,2,5)}  \n",
    "* d) C = {3, 4, 5, (2,3), (2,4), (2,5)}  \n",
    "* e) A∩B = {5}, A∪B = {3, 4, 5, (1,5), (2,5), (1,2,5)}  \n",
    "     (C∩B)<sup>c</sup> = S - {5,(2,5)}"
   ]
  },
  {
   "cell_type": "markdown",
   "metadata": {},
   "source": [
    "---\n",
    "### Resolución ejercicio 2\n",
    "si A⊂B entonces podemos reescribir B de la siguiente forma:  \n",
    "B=A∪(B∩A<sup>c</sup>)  =>  P(B)=P(A∪(B∩A<sup>c</sup>))  =>  P(B)=P(A)+P(B∩A<sup>c</sup>)  =>  P(B)=P(A)+P(B-A)   \n",
    "por lo tanto `P(B-A) = P(B) - P(A)`  \n",
    "Como `P(x)∈[0,1]` (i.e. la probabilidad es siempre positiva) P(B) debe ser mayor o igual a P(A).    \n",
    ".------------------------.  \n",
    "**P(A∪B) = P(A) + P(B) - P(A∩B)**  \n",
    "**P(A∩B) = P(A) + P(B) - P(A∪B)**"
   ]
  },
  {
   "cell_type": "markdown",
   "metadata": {},
   "source": [
    "---\n",
    "### Resolución ejercicio 3\n",
    "* a) P(A∪B) = 0.22 + 0.25 - 0.11 = 0.36\n",
    "* b) P(A<sup>c</sup>∩B<sup>c</sup>) = P((A∪B)<sup>c</sup>) = 1 - 0.36 = 0.64 \n",
    "* c) P(A∪B∪C) = P(A) + P(B) + P(C) - P(A∩B) - P(B∩C) - P(A∩C) + P(A∩B∩C) = 0.53\n",
    "* d) P(A<sup>c</sup>∩B<sup>c</sup>∩C<sup>c</sup>) = P(A∪B∪C)<sup>c</sup> = 1 - 0.53 = 0.47\n",
    "* e) P(A<sup>c</sup>∩B<sup>c</sup>∩C) =<sup>1</sup> P(C) - (P(B∩C) + P(A∩C)) = 0.28 - 0.09 - 0.05 = 0.16\n",
    "* f) P((A<sup>c</sup>∩B<sup>c</sup>)∪C)= 0.64<sup>2</sup> + 0.28 - 0.16<sup>3</sup> = 0.76\n",
    "\n",
    "<sup>1</sup>: usando diagramas para encontrar una ecuación equivalente.  \n",
    "<sup>2</sup>: de b)  \n",
    "<sup>3</sup>: de e)  "
   ]
  },
  {
   "cell_type": "markdown",
   "metadata": {},
   "source": [
    "---\n",
    "### Resolución ejercicio 4\n",
    "* a) 5C3 (número de formas de elegir 3 empresas) * 3! (permutaciones de cada contrato)\n",
    "    5C3 * 3! = 60\n",
    "* b) 4C2 * 3! = 36\n",
    "    4C2 (cantidad de formas de obtener el resto de las empresas)\n"
   ]
  },
  {
   "cell_type": "markdown",
   "metadata": {},
   "source": [
    "---\n",
    "### Resolución ejercicio 5\n",
    "* a) (8/25 \\* 7/24 \\* 6/23 \\* 5 /22 \\* 17/21) \\* 5C1 = 0.0224  \n",
    "    También se puede pensar como (8C4 \\* 17C1) /  25C5\n",
    "* b) 0.0224 + (8/25 \\* 7/24 \\* 6/23 \\* 5/22 \\* 4/21) = 0.02345\n"
   ]
  },
  {
   "cell_type": "markdown",
   "metadata": {},
   "source": [
    "---\n",
    "### Resolución ejercicio 6\n",
    "* a) 1 - (4C3/8C3) = 13/14   \n",
    "    También puede pensarse 4 \\* 4C2/8C3 \\* 2 + 4C3/8C3  \n",
    "* b) 4/8C5 = 1/14  \n",
    "    También puede pensarse como 1 - elegir 3 varones, que es el resultado del ejercicio anterior, quedando 1 - 13/14 = 1/14\n",
    "\n",
    "    \n",
    "    "
   ]
  },
  {
   "cell_type": "markdown",
   "metadata": {},
   "source": [
    "---\n",
    "### Resolución ejercicio 7\n",
    "* a) 2/5 \\* 1/4 = 1/10 = 0.1\n",
    "* b) 2 \\* 3/5 \\* 2/4 + 2/5 \\* 1/4 = 14/20 = 7/10   \n",
    "    También puede pensarse como 1 - 3/5 \\* 2/4 = 1 - 6/20 = 14/20\n",
    "* c) 6 / 5C2 = 3/5 = 0.6"
   ]
  },
  {
   "cell_type": "markdown",
   "metadata": {},
   "source": [
    "---\n",
    "### Resolución ejercicio 8\n",
    "* a) 0.05\n",
    "* b) 0.12\n",
    "* c) manga corta = 0.56, manga larga = 0.44\n",
    "* d) mediana = 0.49, estampada =  0.25\n",
    "* e) 0.08/0.15 = 0.5333\n",
    "* f) manga corta = 0.08/0.18 = 0.44444  \n",
    "    manga larga = 0.10/0.18 = 0.55555"
   ]
  },
  {
   "cell_type": "markdown",
   "metadata": {},
   "source": [
    "---\n",
    "### Resolución ejercicio 9\n",
    "* a) 6/10 \\* 8/11 = 0.4363636\n",
    "* b) 4/10 \\* 4/11 + 0.4363636 = 0.1454545 + 0.4363636 = 0.5818181 "
   ]
  },
  {
   "cell_type": "markdown",
   "metadata": {},
   "source": [
    "---\n",
    "### Resolución ejercicio 10\n",
    "* a) como P(B) existe, entonces existe un valor para P(B|A) y P(B|A<sup>c</sup>).  \n",
    "P(A∩B)/P(B) + P(A<sup>c</sup>∩B)/P(B) = P((A∩B)∪(A<sup>c</sup>∩B))/P(B) = P((A∪A<sup>c</sup>)∩B)/P(B) = P(B)/P(B) = 1.  \n",
    "Por lo tanto P(B|A) + P(B|A<sup>c</sup>) = 1\n",
    "* b) P(B|A) > P(B) => 1 - P(B<sup>c</sup>|A) > 1 - P(B<sup>c</sup>) = > - P(B<sup>c</sup>|A) > - P(B<sup>c</sup>) => P(B<sup>c</sup>|A) < P(B<sup>c</sup>)\n",
    "* c) P(A∪B|C) = P((A∪B)∩C)/P(C) = P((A∩C)∪(B∩C))/P(C) = (P(A∩C) + P(B∩C) - P(A∩B∩C))/P(C) = P(A|C) + P(B|C) - P(A∩B|C)"
   ]
  },
  {
   "cell_type": "markdown",
   "metadata": {},
   "source": [
    "---\n",
    "### Resolución ejercicio 11\n",
    "* a) P(Positivo|Enfermo) = 0.99, P(Positivo|Sano) = 0.02  \n",
    "    1/25 \\* 0.99 + 24/25 \\* 0.02 = 0.0588\n",
    "* b) P(E|Pos) = P(Pos|E) \\* P(E)/P(Pos) = (0.99 \\* 1/25) / 0.0588 = 0.6735\n",
    "* c) P(S|Neg) = P(Neg|S) \\* P(S) / P(Neg) = 0.98 \\* 24/25 / 0.9412 = 0.999"
   ]
  },
  {
   "cell_type": "markdown",
   "metadata": {},
   "source": [
    "---\n",
    "### Resolución ejercicio 12\n",
    "dado P(B) = P(B|A) y P(A) = P(A|B)  \n",
    "podemos obtener: 1 - P(A<sup>c</sup>) = 1 - P(A<sup>c</sup>|B) => P(A<sup>c</sup>) = P(A<sup>c</sup>|B). Por lo tanto A<sup>c</sup> y B son independientes.    \n",
    "La prueba para A y B<sup>c</sup> es análoga.   \n",
    "P(A<sup>c</sup>) = P(A<sup>c</sup>|B)   \n",
    "P(A<sup>c</sup>) = P(B|A<sup>c</sup>)\\*P(A<sup>c</sup>)/P(B)  \n",
    "1 = P(B|A<sup>c</sup>)/P(B)  \n",
    "Comprobamos que la recíproca también vale P(B) = P(B|A<sup>c</sup>)  \n",
    "Y ahora simplemente lo complementamos como al principio y probamos que\n",
    "A<sup>c</sup> y B<sup>c</sup> son independientes"
   ]
  },
  {
   "cell_type": "markdown",
   "metadata": {},
   "source": [
    "---\n",
    "### Ejercicio 13"
   ]
  },
  {
   "cell_type": "code",
   "execution_count": 2,
   "metadata": {},
   "outputs": [
    {
     "name": "stdout",
     "output_type": "stream",
     "text": [
      "* a) P(D) = 1 - 0.86**(1/25) = 0.006\n",
      "* b) P(D) = 1 - 0.90**(1/25) = 0.004\n"
     ]
    }
   ],
   "source": [
    "p2.ej13()"
   ]
  },
  {
   "cell_type": "markdown",
   "metadata": {},
   "source": [
    "---\n",
    "### Resolución ejercicio 14\n",
    "* P(A) = 2/10 = 0.2\n",
    "* P(B) = 8/10 \\* 2/9 + 2/10 \\* 1/9 = 0.2\n",
    "* P(A∩B) = 2/10 * 1/9 = 1/45  \n",
    "A y B no son independientes"
   ]
  },
  {
   "cell_type": "markdown",
   "metadata": {},
   "source": [
    "@mauroebordon"
   ]
  }
 ],
 "metadata": {
  "kernelspec": {
   "display_name": "Python 3",
   "language": "python",
   "name": "python3"
  },
  "language_info": {
   "codemirror_mode": {
    "name": "ipython",
    "version": 3
   },
   "file_extension": ".py",
   "mimetype": "text/x-python",
   "name": "python",
   "nbconvert_exporter": "python",
   "pygments_lexer": "ipython3",
   "version": "3.6.9"
  }
 },
 "nbformat": 4,
 "nbformat_minor": 4
}
