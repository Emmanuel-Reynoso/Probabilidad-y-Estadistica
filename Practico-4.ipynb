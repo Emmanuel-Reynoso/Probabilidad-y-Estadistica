{
 "cells": [
  {
   "cell_type": "markdown",
   "metadata": {},
   "source": [
    "\n",
    "# Probabilidad y Estadística\n",
    "\n",
    "## Practico - 4"
   ]
  },
  {
   "cell_type": "code",
   "execution_count": 1,
   "metadata": {},
   "outputs": [],
   "source": [
    "import sys\n",
    "sys.path.insert(0,'./modules')\n",
    "import practico4 as p4"
   ]
  },
  {
   "cell_type": "markdown",
   "metadata": {},
   "source": [
    "---\n",
    "### Ejercicio 1\n",
    "Dada un modelo probabilistico con una variable aleatoria X=\"tiempo de prestamo de un libro\" con la siguiente funcion de densidad:  \n",
    "f(x) = x/2 if (0<=x<=2)  \n",
    "f(x) = 0 otherwise  \n",
    "* a) calcular P(X <= 1), P(0,5 <= X <= 1,5) y P(1,5 < X)\n",
    "* b) Obtener la funcion de distribucion acumulada\n",
    "* c) E(X), V(X) y σ(X)\n",
    "* d) h(X)=X\\*\\*2, calcule E(h(X))"
   ]
  },
  {
   "cell_type": "code",
   "execution_count": 2,
   "metadata": {},
   "outputs": [
    {
     "name": "stdout",
     "output_type": "stream",
     "text": [
      "i) P(X <= 1) = 0.25\n",
      "ii) P(0,5 <= X <= 1,5) = 0.5\n",
      "iii) P(1,5 < X) = 0.4375\n",
      "b) if x < 0, F(x)= 0\n",
      "   if x < 2, F(x)= x**2 / 4\n",
      "   if 2 < x, F(x)= 1\n",
      "c) E(X) = 1.333 , V(X) = 0.222 , σ(X) = 0.471\n",
      "d) 2.0\n"
     ]
    }
   ],
   "source": [
    "p4.ej1()"
   ]
  },
  {
   "cell_type": "markdown",
   "metadata": {},
   "source": [
    "---\n",
    "### Ejercicio 2\n",
    "Dada un modelo probabilistico con una variable aleatoria X=\"tiempo de extra de clase\" con la siguiente funcion de densidad:  \n",
    "f(x) = k\\*x\\*\\*2 if (0<=x<=2)  \n",
    "f(x) = 0 otherwise\n",
    "* a) Encuentre el valor de k\n",
    "* b) calcule P(1 < X)\n",
    "* c) calcule P(1 < X < 1.5)\n",
    "* d) obtener la funcion de distribucion acumulada\n",
    "* e) cual es el percentil 75 de la distribucion?\n",
    "* f) calcular E(X) y σ(X)\n",
    "* g) Probabilidad de que X este en el rango (E-σ, E+σ)"
   ]
  },
  {
   "cell_type": "code",
   "execution_count": 3,
   "metadata": {},
   "outputs": [
    {
     "name": "stdout",
     "output_type": "stream",
     "text": [
      "a)  0.375\n",
      "b)  0.125\n",
      "c)  0.297\n",
      "d) if x < 0, F(x)= 0\n",
      "   if x < 2, F(x)= x**3 / 8\n",
      "   if 2 < x, F(x)= 1\n",
      "e) 0.75 = x**3 / 8, por lo tanto x = 1.817\n",
      "f) E(X) = 1.500 y σ(x) = 0.387\n",
      "g) 0.668\n"
     ]
    }
   ],
   "source": [
    "p4.ej2()"
   ]
  },
  {
   "cell_type": "markdown",
   "metadata": {},
   "source": [
    "---\n",
    "### Ejercicio 3\n",
    "Dado un mp con distribucion uniforme X~U(25,35),  \n",
    "dada una v.a. X=\"tiempo de preparacion\":\n",
    "* a) dar funcion de densidad y fda de X\n",
    "* b) calcular P(33 < X)\n",
    "* c) dado un a tal que 25 < a < a+2 < 35, calcule P(a, a+2)\n",
    "* d) calcular E(X) y V(X)\n",
    "* e) Probabilidad de que X este en el rango (E-σ, E+σ) y (E-2\\*σ, E+2\\*σ)"
   ]
  },
  {
   "cell_type": "code",
   "execution_count": 4,
   "metadata": {},
   "outputs": [
    {
     "name": "stdout",
     "output_type": "stream",
     "text": [
      "a)-fd----\n",
      "   if x < 0 or x < 2, f(x)= 0\n",
      "   if x < 2, f(x)= x**3 / 8\n",
      "---fda---\n",
      "   if x < 0, F(x)= 0\n",
      "   if x < 2, F(x)= x**3 / 8\n",
      "   if 2 < x, F(x)= 1\n",
      "b)  0.200\n",
      "c)  0.200\n",
      "d) E(X) = 30.000 y V(X) = 8.333\n",
      "e) 0.577 y 1.000\n"
     ]
    }
   ],
   "source": [
    "p4.ej3()"
   ]
  },
  {
   "cell_type": "markdown",
   "metadata": {},
   "source": [
    "---\n",
    "### Ejercicio 4\n",
    "Dada X~N(80,100), calcular:\n",
    "* P(X < 100)\n",
    "* P(65 < X < 100)\n",
    "* P(70 < X)\n",
    "* P(85 < X 95)\n",
    "* P(|X-80| < 10)"
   ]
  },
  {
   "cell_type": "code",
   "execution_count": 5,
   "metadata": {},
   "outputs": [
    {
     "name": "stdout",
     "output_type": "stream",
     "text": [
      "P(X < 100) = 0.977\n",
      "P(X < 100) = 0.977\n",
      "P(65 < X < 100) = 0.910\n",
      "P(70 < X) = 0.841\n",
      "P(85 < X 95) = 0.242\n",
      "P(|X-80| < 10) = 0.683\n"
     ]
    }
   ],
   "source": [
    "p4.ej4()"
   ]
  },
  {
   "cell_type": "markdown",
   "metadata": {},
   "source": [
    "---\n",
    "### Ejercicio 5\n",
    "Dada X~N(8.8, 2.8)\n",
    "* a) P(X < 10) y P(10 < X)  \n",
    "* b) P(5 < X < 10)\n",
    "* c) calcule c tal que P(c-8.8 < X < c+8.8) = 0.98\n",
    "* d) probabilidad de que al menos 1 entre 5 arboles elegidos al azar tenga diametro entre 5 y 10."
   ]
  },
  {
   "cell_type": "code",
   "execution_count": 6,
   "metadata": {},
   "outputs": [
    {
     "name": "stdout",
     "output_type": "stream",
     "text": [
      "a) P(X < 10) = 0.763 y P(10 < X) = 0.237\n",
      "b) P(5 < X < 10) = 0.752\n",
      "c) c = 3.899\n",
      "d) 0.999\n"
     ]
    }
   ],
   "source": [
    "p4.ej5()"
   ]
  },
  {
   "cell_type": "markdown",
   "metadata": {},
   "source": [
    "---\n",
    "### Resolucion ejercicio 6\n",
    "Dado P(X < 10256) = 0.9 y P(9671 < X) = 0.05, y aplicando estandarizacion:    \n",
    "`ɸ(Z < (10256-e)/d) = 0.9`, `1 - ɸ((9671-e)/d < Z) = 0.05`,      \n",
    "se obtienen `(10256-e)/d = 1.28` y `(9671-e)/d = 1.645`.  \n",
    "Resolviendo el sistema lineal nos da como resultado:  \n",
    "`e = 12.34`    \n",
    "`d = 1.625`    "
   ]
  },
  {
   "cell_type": "markdown",
   "metadata": {},
   "source": [
    "---\n",
    "###  Resultado ejercicio 7\n",
    "* a) `E(Y) = a * E(X)` y `V(Y) = a**2 * E(Y)`  \n",
    "* b) `E(F) = a * E(C) = 5/9 * 115 = 63.889`  \n",
    "    `V(F) = a**2 * V(C) = 25/81 * 2**2 = 1.234`  "
   ]
  },
  {
   "cell_type": "markdown",
   "metadata": {},
   "source": [
    "---\n",
    "### Ejercicio 8\n",
    "Dada una X~exp(0,01386)\n",
    "* a) calcule P(X < 100), P(X < 200) y P(100 < X < 200)\n",
    "* b) calcule P(e+d\\*2 < X)\n",
    "* c) calcule E(X)"
   ]
  },
  {
   "cell_type": "code",
   "execution_count": 7,
   "metadata": {},
   "outputs": [
    {
     "name": "stdout",
     "output_type": "stream",
     "text": [
      "a) P(X < 100) = 0.750\n",
      "   P(X < 100) = 0.937\n",
      "   P(100 < X < 200) = 0.188\n",
      "b) P(e+d*2 < X) = 0.050\n",
      "c) mediana(X) = 50.011\n"
     ]
    }
   ],
   "source": [
    "p4.ej8()"
   ]
  },
  {
   "cell_type": "markdown",
   "metadata": {},
   "source": [
    "---\n",
    "### Ejercicio 9\n"
   ]
  },
  {
   "cell_type": "markdown",
   "metadata": {},
   "source": [
    "@mauroebordon"
   ]
  }
 ],
 "metadata": {
  "kernelspec": {
   "display_name": "Python 3",
   "language": "python",
   "name": "python3"
  },
  "language_info": {
   "codemirror_mode": {
    "name": "ipython",
    "version": 3
   },
   "file_extension": ".py",
   "mimetype": "text/x-python",
   "name": "python",
   "nbconvert_exporter": "python",
   "pygments_lexer": "ipython3",
   "version": "3.6.9"
  }
 },
 "nbformat": 4,
 "nbformat_minor": 4
}
