{
 "cells": [
  {
   "cell_type": "markdown",
   "metadata": {},
   "source": [
    "\n",
    "# Probabilidad y Estadística\n",
    "\n",
    "## Practico - 4"
   ]
  },
  {
   "cell_type": "code",
   "execution_count": 1,
   "metadata": {},
   "outputs": [],
   "source": [
    "import sys\n",
    "sys.path.insert(0,'./modules')\n",
    "import practico4 as p4\n",
    "import definiciones"
   ]
  },
  {
   "cell_type": "markdown",
   "metadata": {},
   "source": [
    "---\n",
    "### Ejercicio 1\n",
    "Dada un modelo probabilistico con una variable aleatoria X=\"tiempo de prestamo de un libro\" la siguiente funcion de densidad:  \n",
    "f(x) = x/2 if (0<=x<=2)  \n",
    "f(x) = 0 otherwise  \n",
    "* a) calcular P(X <= 1), P(0,5 <= X <= 1,5) y P(1,5 < X)\n",
    "* b) Obtener la funcion de distribucion acumulada\n",
    "* c) E(X), V(X) y σ(X)\n",
    "* d) h(X)=X\\*\\*2, calcule E(h(X))"
   ]
  },
  {
   "cell_type": "code",
   "execution_count": 2,
   "metadata": {},
   "outputs": [
    {
     "name": "stdout",
     "output_type": "stream",
     "text": [
      "i) P(X <= 1) = 0.25\n",
      "ii) P(0,5 <= X <= 1,5) = 0.5\n",
      "iii) P(1,5 < X) = 0.4375\n",
      "b) if x < 0, F(x)= 0\n",
      "   if x < 2, F(x)= x**2 / 4\n",
      "   if 2 < x, F(x)= 1\n",
      "c) E(X) = 1.333 , V(X) = 0.222 , σ(X) = 0.471\n",
      "d) 2.0\n"
     ]
    }
   ],
   "source": [
    "p4.ej1()"
   ]
  },
  {
   "cell_type": "markdown",
   "metadata": {},
   "source": [
    "---\n",
    "### Ejercicio 2\n",
    "Dada un modelo probabilistico con una variable aleatoria X=\"tiempo de extra de clase\" siguiente funcion de densidad:  \n",
    "f(x) = k\\*x\\*\\*2 if (0<=x<=2)  \n",
    "f(x) = 0 otherwise\n",
    "* a) Encuentre el valor de k\n",
    "* b) calcule P(1 < X)\n",
    "* c) calcule P(1 < X < 1.5)\n",
    "* d) obtener la funcion de distribucion acumulada\n",
    "* e) cual es el percentil 75 de la distribucion?\n",
    "* f) calcular E(X) y σ(X)\n",
    "* g) Probabilidad de que X este en el rango (E-σ, E+σ)"
   ]
  },
  {
   "cell_type": "code",
   "execution_count": 3,
   "metadata": {},
   "outputs": [
    {
     "name": "stdout",
     "output_type": "stream",
     "text": [
      "\n"
     ]
    }
   ],
   "source": [
    "p4.ej2()"
   ]
  },
  {
   "cell_type": "markdown",
   "metadata": {},
   "source": [
    "@mauroebordon"
   ]
  }
 ],
 "metadata": {
  "kernelspec": {
   "display_name": "Python 3",
   "language": "python",
   "name": "python3"
  },
  "language_info": {
   "codemirror_mode": {
    "name": "ipython",
    "version": 3
   },
   "file_extension": ".py",
   "mimetype": "text/x-python",
   "name": "python",
   "nbconvert_exporter": "python",
   "pygments_lexer": "ipython3",
   "version": "3.6.9"
  }
 },
 "nbformat": 4,
 "nbformat_minor": 4
}
