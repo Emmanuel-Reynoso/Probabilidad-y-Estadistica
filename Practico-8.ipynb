{
 "cells": [
  {
   "cell_type": "code",
   "execution_count": 1,
   "metadata": {},
   "outputs": [],
   "source": [
    "import sys\n",
    "sys.path.insert(0,'./modules')\n",
    "import practico8 as p8"
   ]
  },
  {
   "cell_type": "markdown",
   "metadata": {},
   "source": [
    "# Probabilidad y Estadística\n",
    "### Parte II: Inferencia Estadística\n",
    "\n",
    "---\n",
    "\n",
    "\n",
    "# Práctico - 8"
   ]
  },
  {
   "cell_type": "markdown",
   "metadata": {},
   "source": [
    "### Ejercicio 1\n",
    "Dos empresas distintas desean establecerse en cierta región y brindar servicios de televisión por cable. Se denota por p la proporción de suscriptores potenciales que prefieren la primera empresa sobres iguientes la segunda.  \n",
    "Se toma una muestra aleatoria de tamaño 25 para probar `H0: p = 0.5` contra `Ha: p != 0.5`. Se representa con X el número de suscriptores en la muestra que está a favor de la primera empresa y con x el valor\n",
    "observado de X.\n",
    "* a) ¿Cuál de las siguientes regiones de rechazo es la más adecuada?  \n",
    "    + R1 = {x : x ≤ 7 o x ≥ 18}\n",
    "    + R2 = {x : x ≤ 8} \n",
    "    + R3 = {x : x ≥ 17}\n",
    "* b) ¿Cuál es la distribución de probabilidad del estadı́stico de prueba X cuando H0 es verdadera? Utilı́cela para calcular la probabilidad de error de tipo I\n",
    "* c) Calcule la probabilidad de error de tipo II para la región seleccionada cuando p = 0.3, repita lo mismo para p = 0.4, p = 0.6 y p = 0.7\n",
    "* d) Mediante la región seleccionada ¿qué concluye si 6 de los 25 individuos favoreció a la primera empresa?"
   ]
  },
  {
   "cell_type": "code",
   "execution_count": 2,
   "metadata": {},
   "outputs": [
    {
     "name": "stdout",
     "output_type": "stream",
     "text": [
      "a) R1, estamos haciendo una prueba bilateral\n",
      "b) X~B(25, 0.5)\n",
      "   err1 = 0.029\n",
      "c)\n",
      "   if p = 0.3: err2 = 0.488\n",
      "   if p = 0.4: err2 = 0.846\n",
      "   if p = 0.6: err2 = 0.925\n",
      "   if p = 0.7: err2 = 0.659\n",
      "d)\n",
      "   Como 6 pertenece a la región de rechazo, rechazamos la hipótesis nula.\n"
     ]
    }
   ],
   "source": [
    "p8.ej1()"
   ]
  },
  {
   "cell_type": "markdown",
   "metadata": {},
   "source": [
    "---\n",
    "### Ejercicio 2\n",
    "La calibración de una balanza debe ser revisada después de pesar 25 veces un espécimen de prueba de 10 kg. Se supone que los resultados de diferentes pesos son independientes entre sı́ y que el peso en cada intento está normalmente distribuido con σ = 0.200 kg. Se representa con μ el verdadero promedio de lectura de peso de la balanza.\n",
    "* a) ¿Qué hipótesis probarı́a?\n",
    "* b) Se supone que la balanza debe ser revisada si x̄ ≤ 9.8968 o x̄ ≥ 10.1032. ¿Cuál es la probabilidad de que la revisión se realice cuando no sea necesaria?\n",
    "* c) ¿Cuál es la probabilidad de que la revisión se considere innecesaria (el aparato está bien calibrado) cuando μ = 10.1? ¿Y cuando μ = 9.8? \n",
    "* d) Sea z = math.sqrt(n) \\* (x̄−10)/σ. ¿Para qué valor de c es la región de rechazo de la parte b) equivalente a la región bilateral z ≥ c o z ≤ −c?"
   ]
  },
  {
   "cell_type": "code",
   "execution_count": 3,
   "metadata": {},
   "outputs": [
    {
     "name": "stdout",
     "output_type": "stream",
     "text": [
      "a) Hipotesis alternativa del tipo bilateral:\n",
      "   H0: μ = 10\n",
      "   Ha: μ != 10\n",
      "   estadístico de prueba: Z\n",
      "b) P(revisar en vano) = 0.0099\n",
      "c) P(rechazar revision con μ = 10.1) = 0.532\n",
      "   P(rechazar revision con μ = 9.8) = 0.008\n",
      "d) c = 2.58\n"
     ]
    }
   ],
   "source": [
    "p8.ej2()"
   ]
  },
  {
   "cell_type": "markdown",
   "metadata": {},
   "source": [
    "---\n",
    "### Ejercicio 3\n",
    "Considere que el estadı́stico de prueba Z tiene distribución normal estándar cuando H0 es verdadera. Proporcione el nivel de significación para cada una de las siguientes situaciones:\n",
    "* a) Ha: μ > μ0, región de rechazo z ≥ 1.88\n",
    "* b) Ha: μ < μ0, región de rechazo z ≤ −2.75\n",
    "* c) Ha: μ != μ0, región de rechazo z ≥ 2.88 o z ≤ −2.88"
   ]
  },
  {
   "cell_type": "code",
   "execution_count": 4,
   "metadata": {},
   "outputs": [
    {
     "name": "stdout",
     "output_type": "stream",
     "text": [
      "a) 0.0301\n",
      "b) 0.003\n",
      "c) 0.004\n"
     ]
    }
   ],
   "source": [
    "p8.ej3()"
   ]
  },
  {
   "cell_type": "markdown",
   "metadata": {},
   "source": [
    "---\n",
    "### Ejercicio 4\n",
    "Se ha determinado el punto de fusión de cada una de las 16 muestras de cierta marca de aceite vegetal hidrogenado, con resultado x̄ = 94.32.  \n",
    "Suponga que la distribución del punto de fusión es normal con σ = 1.20\n",
    "* a) Pruebe H0: μ = 95 contra Ha: μ != 95, utilizando una prueba de nivel 0.01 de dos colas.\n",
    "* b) Si se utiliza una prueba de nivel 0.01 ¿cuál es β(94), la probabilidad de error de tipo II cuando μ = 94?\n",
    "* c) ¿Qué valor de n es necesario para asegurar que β(94) = 0.1 cuando α = 0.01?\n"
   ]
  },
  {
   "cell_type": "code",
   "execution_count": 5,
   "metadata": {},
   "outputs": [
    {
     "name": "stdout",
     "output_type": "stream",
     "text": [
      "a) No se rechaza la hipótesis nula porque x no cayó en el RR\n",
      "b) 0.224\n",
      "c) 22.000\n"
     ]
    }
   ],
   "source": [
    "p8.ej4()"
   ]
  },
  {
   "cell_type": "markdown",
   "metadata": {},
   "source": [
    "---\n",
    "### Ejercicio 5\n",
    "Se supone que el diámetro promedio real de unas ruedas de cierto tipo es 0.5 pulgadas. Para verificar esto, se hará una prueba t bilateral. ¿Qué conclusión es adecuada en cada uno de los casos siguientes?\n",
    "* a) n = 13, tobs = 1.6, α = 0.05\n",
    "* b) n = 13, tobs = −1.6, α = 0.05\n",
    "* c) n = 25, tobs = −2.6, α = 0.01"
   ]
  },
  {
   "cell_type": "code",
   "execution_count": 6,
   "metadata": {},
   "outputs": [
    {
     "name": "stdout",
     "output_type": "stream",
     "text": [
      "a) P(tobs fuera del RR) = 0.932\n",
      "Prevalece la hipótesis nula. Personalmente me parece que al estar a 0.043 de ser rechazada se debería retomar la prueba\n",
      "\n",
      "b) misma conclución que en el inciso b).\n",
      "\n",
      "c) P(tobs fuera del RR) = 0.992\n",
      "   la observacion está en el RR, se rechaza H0.\n"
     ]
    }
   ],
   "source": [
    "p8.ej5()"
   ]
  },
  {
   "cell_type": "markdown",
   "metadata": {},
   "source": [
    "---\n",
    "### Ejercicio 6\n",
    "Se realizaron n = 26 observaciones de tiempo de escape, en segundos, para trabajadores petroleros, en unejercicio simulado, a partir de las cuales se calcularon el promedio y la desviación estándar muestrales, que fueron 370.69 y 24.26 respectivamente. Los investigadores suponen que el tiempo real promedio de escape es de 6 minutos a lo sumo.  \n",
    "+ ¿Contradicen los datos esta suposición?\n",
    "+ Asumiendo normalidad, pruebe las hipótesis apropiadas con un nivel de significación de 0.05."
   ]
  },
  {
   "cell_type": "code",
   "execution_count": 7,
   "metadata": {},
   "outputs": [
    {
     "name": "stdout",
     "output_type": "stream",
     "text": [
      "Hay una probabilidad de 0.017 de que dada una media de 360 la media muestral haya resultado 370.69.\n",
      "\n",
      "Con un nivel de significación de 0.05 se rechazaría la hipótesis nula.\n"
     ]
    }
   ],
   "source": [
    "p8.ej6()"
   ]
  },
  {
   "cell_type": "markdown",
   "metadata": {},
   "source": [
    "---\n",
    "### Ejercicio 7\n",
    "La prueba de impacto Charpy de muesca V es la base para estudiar muchos criterios de resistencia de materiales. Se aplicó esta prueba a una muestra de 42 materiales de una aleación especial a 110F. El promedio muestral de expansión lateral transversal se calculó en 73.1 milésimas de pulgada y la desviación estándar muestral fue s = 5.9 milésimas de pulgada.  \n",
    "Suponga que los datos distribuyen normalmente. El verdadero promedio de cantidad de expansión debe ser menor de 75 milésimas de pulgada para ser adecuada en cierta aplicación. La aleación no se utilizará a menos que la muestra proporcione fuerte evidencia de que este criterio se ha satisfecho.\n",
    "* a) Pruebe las hipótesis pertinentes empleando α = 0.01 para determinar si la aleación es adecuada.\n",
    "* b)Con σ = 5.9 ¿cuál es la probabilidad de error de tipo II β(μ') de la prueba para la alternativa μ' = 70?"
   ]
  },
  {
   "cell_type": "code",
   "execution_count": 8,
   "metadata": {},
   "outputs": [
    {
     "name": "stdout",
     "output_type": "stream",
     "text": [
      "a) La hipotesis nula prevalece\n",
      "b)  β(70) = 0.0008\n"
     ]
    }
   ],
   "source": [
    "p8.ej7()"
   ]
  },
  {
   "cell_type": "markdown",
   "metadata": {},
   "source": [
    "---\n",
    "### Ejercicio 8\n",
    "Se determinó la cantidad de desgaste de un eje, después de un recorrido fijo de millas para cada uno de n = 8 motores de combustión interna, que llevan cobre y plomo como material antifricción, resultando x̄ = 3.72 y s = 1.25\n",
    "* a)Se supone que la distribución de desgaste del eje es normal con media μ. Utilice una prueba de hipótesis a nivel 0.05 para probar H0: μ = 3.50 contra Ha: μ > 3.50\n",
    "* b) Con σ = 1.25 ¿cuál es la probabilidad de error de tipo II β(μ') de la prueba para la alternativa μ' = 4?"
   ]
  },
  {
   "cell_type": "code",
   "execution_count": 9,
   "metadata": {
    "scrolled": true
   },
   "outputs": [
    {
     "name": "stdout",
     "output_type": "stream",
     "text": [
      "a) La hipotesis nula se rechaza\n",
      "b) error tipo II = 0.696\n"
     ]
    }
   ],
   "source": [
    "p8.ej8()"
   ]
  },
  {
   "cell_type": "markdown",
   "metadata": {},
   "source": [
    "---\n",
    "### Ejercicio 9\n",
    "Una muestra aleatoria de 150 donaciones en un banco de sangre revela que 92 eran de sangre tipo A. ¿Sugiere esto que el porcentaje real de donadores tipo A difiere del porcentaje de la población con sangre tipo A que se considera del 40 %? \n",
    "* Haga una prueba de las hipótesis adecuadas, con un nivel de significación de 0.01. ¿Serı́a distinta su conclusión si se usara un nivel de significación de 0.05?"
   ]
  },
  {
   "cell_type": "code",
   "execution_count": 10,
   "metadata": {},
   "outputs": [
    {
     "name": "stdout",
     "output_type": "stream",
     "text": [
      "nivel de significancia 0.01: La hipotesis nula se rechaza\n",
      "nivel de significancia 0.05: La hipotesis nula se rechaza\n"
     ]
    }
   ],
   "source": [
    "p8.ej9()"
   ]
  },
  {
   "cell_type": "markdown",
   "metadata": {},
   "source": [
    "---\n",
    "### Ejercicio 10\n",
    "Algunos cientı́ficos piensan que los robots jugarán un papel esencial en las fábricas, en los próximos 20 años. Supongamos que en un experimento para determinar si es factible el uso de robots para trenzar cables de computadora, se empleó un robot para ensamblar 500 cables. Se examinaron los cables y encontraron 5 defectuosos.\n",
    "* Si los ensambladores humanos tienen una tasa de 0,03 (3%), ¿apoya esta información la hipótesis de que la proporción de partes defectuosas es menor para robots que para humanos? Obtenga el valor p y concluya a un nivel de significación de 0,01."
   ]
  },
  {
   "cell_type": "code",
   "execution_count": 11,
   "metadata": {},
   "outputs": [
    {
     "name": "stdout",
     "output_type": "stream",
     "text": [
      "con un p-valor de 0.0044  La hipotesis nula se rechaza\n"
     ]
    }
   ],
   "source": [
    "p8.ej10()"
   ]
  },
  {
   "cell_type": "markdown",
   "metadata": {},
   "source": [
    "---\n",
    "### Ejercicio 11\n",
    "En un experimento para probar los efectos de hormonas en el crecimiento de ganado para carne, se implantaron 200 mg de progesterona y 20 mg de benzoato de estradiol en el oido externo de 16 terneros seleccionados al azar, cada uno con un peso aproximado de 500 lb. Se encontró que el promedio muestral de peso ganado fue de 2,72 lb y la desviación estándar muestral de 0,41 lb.\n",
    "* Suponga que los datos distribuyen normalmente ¿Sugiere esta información que la media verdadera de ganancia de peso para terneros tratados con el implante de hormonas excede de 2,5? Obtenga el valor p y concluya a un nivel de significación de 0,05."
   ]
  },
  {
   "cell_type": "code",
   "execution_count": null,
   "metadata": {},
   "outputs": [],
   "source": [
    "p8.ej11()"
   ]
  },
  {
   "cell_type": "markdown",
   "metadata": {},
   "source": [
    "@mauroebordon"
   ]
  }
 ],
 "metadata": {
  "kernelspec": {
   "display_name": "Python 3",
   "language": "python",
   "name": "python3"
  },
  "language_info": {
   "codemirror_mode": {
    "name": "ipython",
    "version": 3
   },
   "file_extension": ".py",
   "mimetype": "text/x-python",
   "name": "python",
   "nbconvert_exporter": "python",
   "pygments_lexer": "ipython3",
   "version": "3.6.9"
  }
 },
 "nbformat": 4,
 "nbformat_minor": 4
}
