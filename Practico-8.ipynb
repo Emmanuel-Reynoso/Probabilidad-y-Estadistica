{
 "cells": [
  {
   "cell_type": "code",
   "execution_count": 1,
   "metadata": {},
   "outputs": [],
   "source": [
    "import sys\n",
    "sys.path.insert(0,'./modules')\n",
    "import practico8 as p8"
   ]
  },
  {
   "cell_type": "markdown",
   "metadata": {},
   "source": [
    "# Probabilidad y Estadística\n",
    "### Parte II: Inferencia Estadística\n",
    "\n",
    "---\n",
    "\n",
    "\n",
    "# Práctico - 8"
   ]
  },
  {
   "cell_type": "markdown",
   "metadata": {},
   "source": [
    "### Ejercicio 1\n",
    "Dos empresas distintas desean establecerse en cierta región y brindar servicios de televisión por cable. Se denota por p la proporción de suscriptores potenciales que prefieren la primera empresa sobres iguientes la segunda.  \n",
    "Se toma una muestra aleatoria de tamaño 25 para probar `H0: p = 0.5` contra `Ha: p != 0.5`. Se representa con X el número de suscriptores en la muestra que está a favor de la primera empresa y con x el valor\n",
    "observado de X.\n",
    "* a) ¿Cuál de las siguientes regiones de rechazo es la más adecuada?  \n",
    "    + R1 = {x : x ≤ 7 o x ≥ 18}\n",
    "    + R2 = {x : x ≤ 8} \n",
    "    + R3 = {x : x ≥ 17}\n",
    "* b) ¿Cuál es la distribución de probabilidad del estadı́stico de prueba X cuando H0 es verdadera? Utilı́cela para calcular la probabilidad de error de tipo I\n",
    "* c) Calcule la probabilidad de error de tipo II para la región seleccionada cuando p = 0.3, repita lo mismo para p = 0.4, p = 0.6 y p = 0.7\n",
    "* d) Mediante la región seleccionada ¿qué concluye si 6 de los 25 individuos favoreció a la primera empresa?"
   ]
  },
  {
   "cell_type": "code",
   "execution_count": null,
   "metadata": {},
   "outputs": [],
   "source": []
  },
  {
   "cell_type": "markdown",
   "metadata": {},
   "source": [
    "@mauroebordon"
   ]
  }
 ],
 "metadata": {
  "kernelspec": {
   "display_name": "Python 3",
   "language": "python",
   "name": "python3"
  },
  "language_info": {
   "codemirror_mode": {
    "name": "ipython",
    "version": 3
   },
   "file_extension": ".py",
   "mimetype": "text/x-python",
   "name": "python",
   "nbconvert_exporter": "python",
   "pygments_lexer": "ipython3",
   "version": "3.6.9"
  }
 },
 "nbformat": 4,
 "nbformat_minor": 4
}
