{
 "cells": [
  {
   "cell_type": "code",
   "execution_count": 1,
   "metadata": {},
   "outputs": [],
   "source": [
    "import sys\n",
    "sys.path.insert(0,'./modules')\n",
    "import practico8 as p8"
   ]
  },
  {
   "cell_type": "markdown",
   "metadata": {},
   "source": [
    "# Probabilidad y Estadística\n",
    "### Parte II: Inferencia Estadística\n",
    "\n",
    "---\n",
    "\n",
    "\n",
    "# Práctico - 8"
   ]
  },
  {
   "cell_type": "markdown",
   "metadata": {},
   "source": [
    "### Ejercicio 1\n",
    "Dos empresas distintas desean establecerse en cierta región y brindar servicios de televisión por cable. Se denota por p la proporción de suscriptores potenciales que prefieren la primera empresa sobres iguientes la segunda.  \n",
    "Se toma una muestra aleatoria de tamaño 25 para probar `H0: p = 0.5` contra `Ha: p != 0.5`. Se representa con X el número de suscriptores en la muestra que está a favor de la primera empresa y con x el valor\n",
    "observado de X.\n",
    "* a) ¿Cuál de las siguientes regiones de rechazo es la más adecuada?  \n",
    "    + R1 = {x : x ≤ 7 o x ≥ 18}\n",
    "    + R2 = {x : x ≤ 8} \n",
    "    + R3 = {x : x ≥ 17}\n",
    "* b) ¿Cuál es la distribución de probabilidad del estadı́stico de prueba X cuando H0 es verdadera? Utilı́cela para calcular la probabilidad de error de tipo I\n",
    "* c) Calcule la probabilidad de error de tipo II para la región seleccionada cuando p = 0.3, repita lo mismo para p = 0.4, p = 0.6 y p = 0.7\n",
    "* d) Mediante la región seleccionada ¿qué concluye si 6 de los 25 individuos favoreció a la primera empresa?"
   ]
  },
  {
   "cell_type": "code",
   "execution_count": 2,
   "metadata": {},
   "outputs": [
    {
     "name": "stdout",
     "output_type": "stream",
     "text": [
      "a) R1, estamos haciendo una prueba bilateral\n",
      "b) X~B(25, 0.5)\n",
      "   err1 = 0.029\n",
      "c)\n",
      "   if p = 0.3: err2 = 0.488\n",
      "   if p = 0.4: err2 = 0.846\n",
      "   if p = 0.6: err2 = 0.925\n",
      "   if p = 0.7: err2 = 0.659\n",
      "d) Como 6 pertenece a la región de rechazo, rechazamos la hipótesis nula.\n"
     ]
    }
   ],
   "source": [
    "p8.ej1()"
   ]
  },
  {
   "cell_type": "markdown",
   "metadata": {},
   "source": [
    "---\n",
    "### Ejercicio 2\n",
    "La calibración de una balanza debe ser revisada después de pesar 25 veces un espécimen de prueba de 10 kg. Se supone que los resultados de diferentes pesos son independientes entre sı́ y que el peso en cada intento está normalmente distribuido con σ = 0.200 kg. Se representa con μ el verdadero promedio de lectura de peso de la balanza.\n",
    "* a) ¿Qué hipótesis probarı́a?\n",
    "* b) Se supone que la balanza debe ser revisada si x̄ ≤ 9.8968 o x̄ ≥ 10.1032. ¿Cuál es la probabilidad de que la revisión se realice cuando no sea necesaria?\n",
    "* c) ¿Cuál es la probabilidad de que la revisión se considere innecesaria (el aparato está bien calibrado) cuando μ = 10.1? ¿Y cuando μ = 9.8? \n",
    "* d) Sea z = math.sqrt(n) \\* (x̄−10)/σ. ¿Para qué valor de c es la región de rechazo de la parte b) equivalente a la región bilateral z ≥ c o z ≤ −c?"
   ]
  },
  {
   "cell_type": "code",
   "execution_count": 3,
   "metadata": {},
   "outputs": [
    {
     "name": "stdout",
     "output_type": "stream",
     "text": [
      "a) Hipotesis alternativa del tipo bilateral\n",
      "b) P(revisar en vano) = 0.01\n",
      "c) P(revisar en vano con μ = 10.1) = 0.468\n",
      "   P(revisar en vano con μ = 9.8) = 0.992\n",
      "d) c = 2.58\n"
     ]
    }
   ],
   "source": [
    "p8.ej2()"
   ]
  },
  {
   "cell_type": "markdown",
   "metadata": {},
   "source": [
    "---\n",
    "### Ejercicio 3\n",
    "Considere que el estadı́stico de prueba Z tiene distribución normal estándar cuando H0 es verdadera. Proporcione el nivel de significación para cada una de las siguientes situaciones:\n",
    "* a) Ha : μ > μ0 , región de rechazo z ≥ 1, 88\n",
    "* b) Ha : μ < μ0 , región de rechazo z ≤ −2, 75\n",
    "* c) Ha : μ != μ0 , región de rechazo z ≥ 2, 88 o z ≤ −2, 88"
   ]
  },
  {
   "cell_type": "markdown",
   "metadata": {},
   "source": [
    "@mauroebordon"
   ]
  }
 ],
 "metadata": {
  "kernelspec": {
   "display_name": "Python 3",
   "language": "python",
   "name": "python3"
  },
  "language_info": {
   "codemirror_mode": {
    "name": "ipython",
    "version": 3
   },
   "file_extension": ".py",
   "mimetype": "text/x-python",
   "name": "python",
   "nbconvert_exporter": "python",
   "pygments_lexer": "ipython3",
   "version": "3.6.9"
  }
 },
 "nbformat": 4,
 "nbformat_minor": 4
}
