{
 "cells": [
  {
   "cell_type": "markdown",
   "metadata": {},
   "source": [
    "\n",
    "# Probabilidad y Estadística\n",
    "\n",
    "## Practico - 5"
   ]
  },
  {
   "cell_type": "code",
   "execution_count": 1,
   "metadata": {},
   "outputs": [],
   "source": [
    "import sys\n",
    "sys.path.insert(0,'./modules')\n",
    "import practico5 as p5"
   ]
  },
  {
   "cell_type": "markdown",
   "metadata": {},
   "source": [
    "---\n",
    "### Respuestas ejercicio 1\n",
    "* a) 0.15\n",
    "* b) 0.4\n",
    "* c) 0.22\n",
    "* d) 0.17 y 0.54\n",
    "* e)\n",
    "```\n",
    "Px1(0) = 0.19\n",
    "Px1(1) = 0.3\n",
    "Px1(2) = 0.26\n",
    "Px1(3) = 0.14\n",
    "Px1(4) = 0.11\n",
    "```\n",
    "```\n",
    "Px2(0) = 0.19\n",
    "Px2(1) = 0.3\n",
    "Px2(2) = 0.28\n",
    "Px2(3) = 0.23\n",
    "```"
   ]
  },
  {
   "cell_type": "markdown",
   "metadata": {},
   "source": [
    "---\n",
    "### Ejercicio 2\n",
    "si X,Y v.a con fda dada por:  \n",
    "`f(x,y) = k*(x+y) si 0<=x<=10 && 0 <= y <=10`\n",
    "* a) calcular k\n",
    "* b) P(|X-Y|<2)\n",
    "* c) P(|X-Y|<5)\n",
    "* d) dar funciones marginales y determine independencia.\n",
    "* e) calcular cov(X,Y)"
   ]
  },
  {
   "cell_type": "code",
   "execution_count": 2,
   "metadata": {},
   "outputs": [
    {
     "name": "stdout",
     "output_type": "stream",
     "text": [
      "a) k = 0.001\n",
      "b) P(|X-Y|<2) = 1 - 2*P(0<X<8 ∩ 2<Y<2+X) = 0.360\n",
      "c) P(|X-Y|<5) = P(Y < 5-X) = 0.042\n",
      "d) Px(x) = (x+5)/100\n",
      "   Py(y) = (y+5)/100\n",
      "   independencia: False\n",
      "e) cov(X,Y) = -0.694\n"
     ]
    }
   ],
   "source": [
    "p5.ej2()"
   ]
  },
  {
   "cell_type": "markdown",
   "metadata": {},
   "source": [
    "@mauroebordon"
   ]
  }
 ],
 "metadata": {
  "kernelspec": {
   "display_name": "Python 3",
   "language": "python",
   "name": "python3"
  },
  "language_info": {
   "codemirror_mode": {
    "name": "ipython",
    "version": 3
   },
   "file_extension": ".py",
   "mimetype": "text/x-python",
   "name": "python",
   "nbconvert_exporter": "python",
   "pygments_lexer": "ipython3",
   "version": "3.6.9"
  }
 },
 "nbformat": 4,
 "nbformat_minor": 4
}
