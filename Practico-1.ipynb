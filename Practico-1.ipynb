{
 "cells": [
  {
   "cell_type": "markdown",
   "metadata": {},
   "source": [
    "\n",
    "# Probabilidad y Estadistica\n",
    "\n",
    "## Practico - 1"
   ]
  },
  {
   "cell_type": "code",
   "execution_count": 1,
   "metadata": {
    "scrolled": true
   },
   "outputs": [],
   "source": [
    "import matplotlib.pylab as plt\n",
    "import numpy as np\n",
    "import practico1 as p1"
   ]
  },
  {
   "cell_type": "markdown",
   "metadata": {},
   "source": [
    "---\n",
    "### Ejercicio 2\n",
    "```\n",
    "datos = ['O', 'O', 'N', 'J', 'T', 'F', 'B', 'B', 'F', 'O', 'J', 'O', 'O', 'M','O', 'F', 'F', 'O', 'O', 'N', 'O', 'N', 'J', 'F', 'J', 'B', 'O', 'T','J', 'O', 'J', 'J', 'F', 'N', 'O', 'N', 'M', 'O', 'J', 'M', 'O' ,'B','O' ,'F', 'J', 'O', 'O', 'B', 'N', 'T', 'O', 'O', 'O', 'M', 'B', 'F','J', 'O', 'F', 'N']\n",
    "```\n",
    "Obtenga las frecuencias absolutas y relativas para las distintas categorías y realice un gráfico."
   ]
  },
  {
   "cell_type": "code",
   "execution_count": 2,
   "metadata": {},
   "outputs": [
    {
     "name": "stdout",
     "output_type": "stream",
     "text": [
      "Frecuencia relativa:  {'T': 3, 'M': 4, 'B': 6, 'N': 7, 'F': 9, 'J': 10, 'O': 21}\n",
      "Frecuencia Absoluta:  {'T': 3, 'M': 7, 'B': 13, 'N': 20, 'F': 29, 'J': 39, 'O': 60}\n"
     ]
    },
    {
     "data": {
      "image/png": "[encoded data removed]",
      "text/plain": [
       "<Figure size 360x468 with 2 Axes>"
      ]
     },
     "metadata": {
      "needs_background": "light"
     },
     "output_type": "display_data"
    }
   ],
   "source": [
    "p1.ej2()"
   ]
  },
  {
   "cell_type": "markdown",
   "metadata": {},
   "source": [
    "---\n",
    "### Ejercicio 3\n",
    "\n",
    "Calcule promedio y dispersión  \n",
    "a) **0,20,40,50,60,80,100**   \n",
    "b) **0,48,49,50,51,52,100**   \n",
    "c) **0,1,2,50,98,99,100**"
   ]
  },
  {
   "cell_type": "code",
   "execution_count": 3,
   "metadata": {},
   "outputs": [
    {
     "name": "stdout",
     "output_type": "stream",
     "text": [
      "a) promedio = 50.00  desviacion = 83.67\n",
      "b) promedio = 50.00  desviacion = 70.78\n",
      "c) promedio = 50.00  desviacion = 120.04\n"
     ]
    }
   ],
   "source": [
    "p1.ej3()"
   ]
  },
  {
   "cell_type": "markdown",
   "metadata": {},
   "source": [
    "---\n",
    "### Ejercicio 4\n",
    "30%: 3 puntos  \n",
    "50%: 2 puntos  \n",
    "10%: 1 puntos  \n",
    "10%: 0 puntos  \n",
    "a) Promedio para tamaño de muestra 10 y 20.  \n",
    "b) Se podría saber la nota promedio sin saber cuantos alumnos hay en clase?  "
   ]
  },
  {
   "cell_type": "code",
   "execution_count": 4,
   "metadata": {},
   "outputs": [
    {
     "name": "stdout",
     "output_type": "stream",
     "text": [
      "a) promedio para 10 =  2.00\n",
      "   promedio para 20 =  2.00\n",
      "b) True\n"
     ]
    }
   ],
   "source": [
    "p1.ej4()"
   ]
  },
  {
   "cell_type": "markdown",
   "metadata": {},
   "source": [
    "---\n",
    "### Ejercicio 5\n",
    "Cada clase tiene 99 estudiantes.  \n",
    "La clase A tiene un estudiante con 1 punto, otro con 99 puntos y el resto con 50.   \n",
    "La clase B tiene 49 estudiantes con puntuación de 1, un estudiante con 50 y el resto llegaron a los 99 puntos.  \n",
    "Las notas de la clase C siguen el patrón `1,2,3... 99`."
   ]
  },
  {
   "cell_type": "code",
   "execution_count": 5,
   "metadata": {},
   "outputs": [
    {
     "name": "stdout",
     "output_type": "stream",
     "text": [
      "clase A - promedio = 50.00\n",
      "        - desviacion = 69.30\n",
      "clase B - promedio = 97.52\n",
      "        - desviacion = 108.57\n",
      "clase C - promedio = 49.00\n",
      "        - desviacion = 284.34\n"
     ]
    }
   ],
   "source": [
    "p1.ej5()"
   ]
  },
  {
   "cell_type": "markdown",
   "metadata": {},
   "source": [
    "---\n",
    "### Ejercicio 6\n",
    "Teniendo los siguientes datos:\n",
    "```\n",
    "160,174,176,177,179,180,180,181,183,187,\n",
    "191,194,200,202,203,205,207,211,211,254\n",
    "```\n",
    "* a) Calcule e interprete la media y mediana muestrales  \n",
    "* b) Suponga que el ultimo dato es 211 en vez de 254, calcule la media y mediana.  \n",
    "* c) La <u>media muestral α-recortada</u> consiste en calcular el promedio muestral excluyendo de la muestra el α% de las observaciones mas pequeñas y el α% de las mas grandes.  \n",
    "Cual es el α si eliminamos la primer y ultima observación?  \n",
    "* d) Calcule la media muestra 20% recortada\n",
    "* e) Suponga que para n=19 observaciones la media es de 119.8, y la vigésima observación fue 159.  \n",
    "Cual es el valor de la media total?"
   ]
  },
  {
   "cell_type": "code",
   "execution_count": 6,
   "metadata": {
    "scrolled": true
   },
   "outputs": [
    {
     "name": "stdout",
     "output_type": "stream",
     "text": [
      "a) media = 192.75 y mediana = 189.00\n",
      "b) media = 190.60 y mediana = 189.00\n",
      "c) media = 188.78 y mediana = 185.00\n",
      "   el porcentaje es de : 5.0 %\n",
      "d) media = 190.42 y mediana = 189.00\n",
      "e) 121.75999999999999\n"
     ]
    }
   ],
   "source": [
    "p1.ej6()"
   ]
  },
  {
   "cell_type": "markdown",
   "metadata": {},
   "source": [
    "---\n",
    "### Ejercicio 7\n",
    "dados los siguientes resultados:  \n",
    "`E E F E E E F F E E` \n",
    "* a) Proporción muestral de éxitos\n",
    "* b) E = 1, F = 0. Calcule la media.\n",
    "* c) si se incluyen 15 nuevos datos, cuantos deberían ser E para que la proporción muestral resulte 0.80?"
   ]
  },
  {
   "cell_type": "code",
   "execution_count": 7,
   "metadata": {},
   "outputs": [
    {
     "name": "stdout",
     "output_type": "stream",
     "text": [
      "a) la proporcion de exitos es: 0.70\n",
      "b) la media es: 0.70\n",
      "c) 20\n"
     ]
    }
   ],
   "source": [
    "p1.ej7()"
   ]
  },
  {
   "cell_type": "markdown",
   "metadata": {},
   "source": [
    "---\n",
    "### Ejercicio 8\n",
    "* a) Sean _a_ y *b* constantes. Sea `y[i] = a*x[i] + b`. Cual es la relación entre las medias y varianzas de *x* e *y*?\n",
    "* b) Dados los datos:  \n",
    "`104, 104.8, 101.6, 108, 103.8, 200.8, 104.2, 100.2, 102.4, 101.4`   \n",
    "...i) Calcular promedio y desvío estandar   \n",
    "...ii) Cuanto valen si representamos los datos de la forma:   \n",
    ".....`y[i]=(x[i]-32)*5/9`  \n",
    "...iii) utilizando la segunda representación se encontró un promedio de 87.3 y una desviación de 1.04. Cuanto vale el promedio y el desvío en la primer representación?\n",
    " "
   ]
  },
  {
   "cell_type": "markdown",
   "metadata": {},
   "source": [
    "a) Sea x un arreglo de datos:  \n",
    "`nueva_media(x, a, b) =`   \n",
    "`= ((a*x[0] + b) + (a*x[1] + b) +...+ (a*x[n] + b))/n`   \n",
    "resolviendo b:  \n",
    "`= (a*x[0] + a*x[1] +...+ a*x[n] + (b*n))/n`    \n",
    "Sacando factor común a:     \n",
    "`= a*(x[0]+x[1]+...+x[n])/n + b`   \n",
    "definición de media(x):   \n",
    "`= a*(sum(x)/n)+b`     \n",
    "El promedio sigue la formula `media(y) = a * media(x) + b`\n",
    "   \n",
    "`nueva_varianza(x, a, b) =`   \n",
    "`= (((a*x[0]+b)-(a*media(x)+b))^2) + ((a*x[1]+b)-(a*media(x)+b)^2) + ...)/(n-1)`    \n",
    "resolviendo b, sacando factor común a:   \n",
    "`= (((a*(x[0]-media(x)))^2) + ((a*(x[1]-media(x)))^2) + ...)/(n-1)`   \n",
    "distribuyendo la potencia en la multiplicación:   \n",
    "`= ((a^2*(x[0]-media(x))^2) + (a^2*(x[1]-media(x))^2) + ...)/(n-1)`    sacando factor común *a^2*:   \n",
    "`= (a^2)*((x[0]-media(x))^2)+((x[1]-media(x))^2) + ...)/(n-1)`   reemplazando por la definición de varianza:   \n",
    "`= (a^2) * varianza(x)`    \n",
    "La varianza sigue la formula `varianza(y) = a^2 * varianza(x)`  "
   ]
  },
  {
   "cell_type": "code",
   "execution_count": 8,
   "metadata": {},
   "outputs": [
    {
     "name": "stdout",
     "output_type": "stream",
     "text": [
      "i)en Fahren: promedio = 113.120 y desviacion = 92.654\n",
      "ii)en Celcius: promedio = 45.067 y desviacion = 28.597\n",
      "iii) promedio =  189.140 y desviacion = 3.370\n"
     ]
    }
   ],
   "source": [
    " p1.ej8()"
   ]
  },
  {
   "cell_type": "markdown",
   "metadata": {},
   "source": [
    "---\n",
    "### Ejercicio 9 (resultados)\n",
    "* a) Verdadero, `nueva_media(x, 1, 7) = media(x)+7`   \n",
    "* b) Falso, b no afecta el valor de la desviación. `nueva_varianza(x,1,7) = varianza(x)`\n",
    "* c) Verdadero, `nueva_media(x, 2, 0) = 2*media(x)`\n",
    "* d) Falso, `nueva_varianza(x, 2, 0) = 4*varianza(x)`\n",
    "* e) Verdadero, `nueva_media(x, -1, 0) = -media(x)`\n",
    "* f) Falso, `nueva_varianza(x, -1, 0) = varianza(x)`\n"
   ]
  },
  {
   "cell_type": "markdown",
   "metadata": {},
   "source": [
    "---\n",
    "### Ejercicio 10\n",
    "Sean `v[0], v[1],.. ,v[n]` datos.\n",
    "* a) Si `u[i] = v[i] - media(v)`. Que relación existe entre la medias y desvíos de *v* y *u*?\n",
    "```\n",
    "media(u) = (v[0]-media(v))+(v[1]-media(v))+...)/n  \n",
    "media(u) = media(v)-media(v) = 0  \n",
    "desvio(u) = sqrt((((u[0]-media(u))^2)+((u[1]-media(u))^2)+...)/(n-1))\n",
    "desvio(u) = sqrt(((u[0]^2)+(u[1]^2)+...)/(n-1))\n",
    "desvio(u) = sqrt((((v[i]-media(v))^2)+((v[1]-media(v))^2) +...)/(n-1))\n",
    "desvio(u) = desvio(v)\n",
    "```\n",
    "* b) si `z[i] = (v[i] - media(v))/desvio(v)`. Que relación existe entre las medias y desvíos de *z* y *u*?\n",
    "con lo anterior podemos ver rápidamente que `media(z) = 0`.  \n",
    "También podemos ver que `desvio(z) = 1` pero eso no se puede ver inmediatamente.  "
   ]
  },
  {
   "cell_type": "markdown",
   "metadata": {},
   "source": [
    "---\n",
    "### Ejercicio 11\n",
    "```\n",
    "control = [1202.6, 830.1, 372.4, 345.5, 321.2, 244.3, 163, 147.8, 95, 87, 81.2, 68.5, 47.3, 41.1, 36.6, 29.0, 28.6, 26.3, 26.1, 24.4, 21.7, 17.3, 11.5, 4.9, 4.9, 1]\n",
    "\n",
    "sembradas = [2745.6, 1697.8, 1656, 978, 703.4, 489.1, 430, 334.1, 302.8, 274.7, 274.7, 255, 242.5, 200.7, 198.6, 129.6, 119, 118.3, 115.3, 92.4, 40.6, 32.7, 31.4, 17.5, 7.7, 4.1]\n",
    "```\n",
    "* a) Hallar el máximo, mínimo, rango, media, mediana, desvío estandar y cuartiles para los dos arreglos.\n",
    "* b) Hacer un boxplot para cada arreglo"
   ]
  },
  {
   "cell_type": "code",
   "execution_count": 9,
   "metadata": {
    "scrolled": false
   },
   "outputs": [
    {
     "name": "stdout",
     "output_type": "stream",
     "text": [
      "a)\n",
      "maximo control:  1202.600\n",
      "minimo control:  1.000\n",
      "rango control:  1201.600\n",
      "promedio control:  164.588\n",
      "desvio estandar control:  1392.132\n",
      "Q1 control: 163.000 Q3 control: 24.400\n",
      "-----------------------------------\n",
      "maximo sembradas:  2745.600\n",
      "minimo sembradas:  4.100\n",
      "rango sembradas:  2741.500\n",
      "promedio sembradas:  441.985\n",
      "desvio estandar sembradas:  3253.936\n",
      "Q1 sembradas: 430.000 Q3 sembradas: 92.400\n",
      "\n",
      "b)\n"
     ]
    },
    {
     "data": {
      "image/png": "[encoded data removed]",
      "text/plain": [
       "<Figure size 360x540 with 2 Axes>"
      ]
     },
     "metadata": {
      "needs_background": "light"
     },
     "output_type": "display_data"
    }
   ],
   "source": [
    "p1.ej11()"
   ]
  },
  {
   "cell_type": "markdown",
   "metadata": {},
   "source": [
    "---\n",
    "### Ejercicio 12\n",
    "```\n",
    "IDT = [13.7, 15.5, 16.8, 17.40, 17.9, 18.6, 19.1, 19.5, 20.7, 21, 21.1, 21.4, 21.4, 22.3, 23.7, 25.5, 25.8, 26.2, 26.6, 28, 28.1, 28.9, 30.6, 31.2, 31.90, 32, 34.8, 36.3, 38.4, 38.8, 40.9, 43.5, 46, 48.9, 52.1, 55.6, 57.3, 60.1, 62.3, 72.8]\n",
    "```\n",
    "Sea ln_IDT un arreglo cuyos datos son los mismos pero aplicando logaritmo neperiano\n",
    "\n",
    "* a) Hallar el máximo, mínimo, rango, media, mediana y desvío\n",
    "* b) Construir una tabla de frecuencias acumuladas y relativas para los datos de IDT, utilizando una clase de longitud 10 y comezando con el valor 10.\n",
    "* c) graficar el histograma\n",
    "* d) Construir las tablas de frecuencias para los datos de ln_IDT, intervalos de clase: 0.4 comenzando en 2.5\n",
    "* e) graficar su histograma\n",
    "* f) realizar los boxplot de cada uno\n",
    "* g) calcular la proporción de datos en los intervalos `(media(x)- k * varianza(x), media(x) + k * varianza(x))`, con k=1,2y3 para los dos arreglos. "
   ]
  },
  {
   "cell_type": "code",
   "execution_count": 10,
   "metadata": {
    "scrolled": false
   },
   "outputs": [
    {
     "name": "stdout",
     "output_type": "stream",
     "text": [
      "a)\n",
      "maximo IDT : 72.800\n",
      "minimo IDT : 13.700\n",
      "rango IDT : 59.100\n",
      "promedio IDT : 32.317\n",
      "mediana IDT : 28.050\n",
      "desvio estandar IDT : 92.035\n"
     ]
    },
    {
     "data": {
      "image/png": "[encoded data removed]",
      "text/plain": [
       "<Figure size 360x504 with 2 Axes>"
      ]
     },
     "metadata": {
      "needs_background": "light"
     },
     "output_type": "display_data"
    },
    {
     "data": {
      "image/png": "[encoded data removed]",
      "text/plain": [
       "<Figure size 432x288 with 1 Axes>"
      ]
     },
     "metadata": {
      "needs_background": "light"
     },
     "output_type": "display_data"
    },
    {
     "name": "stdout",
     "output_type": "stream",
     "text": [
      "g) \n",
      "hay un 100 % con k = 1 entre -59.718 y 124.353\n",
      "hay un 100 % con k = 2 entre -151.753 y 216.388\n",
      "hay un 100 % con k = 3 entre -243.788 y 308.423\n",
      "-----------------------------\n",
      "a)\n",
      "maximo ln_IDT : 4.288\n",
      "minimo ln_IDT : 2.617\n",
      "rango ln_IDT : 1.670\n",
      "promedio ln_IDT : 3.383\n",
      "mediana ln_IDT : 3.334\n",
      "desvio estandar ln_IDT : 2.677\n"
     ]
    },
    {
     "data": {
      "image/png": "[encoded data removed]",
      "text/plain": [
       "<Figure size 360x504 with 2 Axes>"
      ]
     },
     "metadata": {
      "needs_background": "light"
     },
     "output_type": "display_data"
    },
    {
     "data": {
      "image/png": "[encoded data removed]",
      "text/plain": [
       "<Figure size 432x288 with 1 Axes>"
      ]
     },
     "metadata": {
      "needs_background": "light"
     },
     "output_type": "display_data"
    },
    {
     "name": "stdout",
     "output_type": "stream",
     "text": [
      "g) \n",
      "hay un 100 % con k = 1 entre 0.706 y 6.060\n",
      "hay un 100 % con k = 2 entre -1.971 y 8.737\n",
      "hay un 100 % con k = 3 entre -4.647 y 11.414\n"
     ]
    }
   ],
   "source": [
    "p1.ej12()"
   ]
  },
  {
   "cell_type": "markdown",
   "metadata": {},
   "source": [
    "@mauroebordon"
   ]
  }
 ],
 "metadata": {
  "kernelspec": {
   "display_name": "Python 3",
   "language": "python",
   "name": "python3"
  },
  "language_info": {
   "codemirror_mode": {
    "name": "ipython",
    "version": 3
   },
   "file_extension": ".py",
   "mimetype": "text/x-python",
   "name": "python",
   "nbconvert_exporter": "python",
   "pygments_lexer": "ipython3",
   "version": "3.6.9"
  }
 },
 "nbformat": 4,
 "nbformat_minor": 4
}
