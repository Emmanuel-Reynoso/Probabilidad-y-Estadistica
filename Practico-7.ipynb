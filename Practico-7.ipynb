{
 "cells": [
  {
   "cell_type": "code",
   "execution_count": 1,
   "metadata": {},
   "outputs": [],
   "source": [
    "import sys\n",
    "sys.path.insert(0,'./modules')\n",
    "import practico7 as p7"
   ]
  },
  {
   "cell_type": "markdown",
   "metadata": {},
   "source": [
    "# Probabilidad y Estadística\n",
    "### Parte II: Inferencia Estadística\n",
    "\n",
    "---\n",
    "\n",
    "\n",
    "# Práctico - 7"
   ]
  },
  {
   "cell_type": "markdown",
   "metadata": {},
   "source": [
    "### Ejercicio 1\n",
    "La frecuencia de resonancia de las raquetas de tenis tienen distribución norma con media _e_ y varianza _v_ conocida. Se toma una muestra aleatoria de tamaño n.\n",
    "* a) cual es nivel de confianza del intervalo x̄ ± 2.81\\*_v_\\*sqrt(n)\n",
    "* b) cual es el valor de Z<sub>a/2</sub> que corresponde a un intervalo de confianza para _μ_ del 99.7%?\n",
    "* c) Con la muestra dada se obtuvieron los siguientes intervalos de confianza para _e_: (114.4, 115.6) y (114.1, 115.9).\n",
    "    - i) Cual es el valor de la media muestral?\n",
    "    - ii) Cual de estos intervalos tiene mayor nivel de confianza?"
   ]
  },
  {
   "cell_type": "code",
   "execution_count": 2,
   "metadata": {},
   "outputs": [
    {
     "name": "stdout",
     "output_type": "stream",
     "text": [
      "a) 0.995\n",
      "b) 2.968\n",
      "i) μ1 = 115.0 y μ2 = 115.0\n",
      "ii) el segundo.\n"
     ]
    }
   ],
   "source": [
    "p7.ej1()"
   ]
  },
  {
   "cell_type": "markdown",
   "metadata": {},
   "source": [
    "---\n",
    "### Ejercicio 2\n",
    "Se desea un intervalo de confianza para la media verdadera μ de pérdida de carga para cierto tipo de motor de inducción, cuando la corriente de la linea se mantiene en 10 amps para una velocidad de 1500 rpm.  \n",
    "Suponga que la pérdida de carga está normalmente distribuída con σ = 3.\n",
    "* a) Calcular un intervalo de confianza del 95% para μ cuando n=25 y x̄=58.3\n",
    "* b) Calcular un intervalo de conianza del 95% para μ cuando n=100 y x̄ = 58.3. Compare la longitud de este intervalo con la obtenida en a).\n",
    "* c) Calcular un intervalo de confianza del 99% para μ cuando n = 100 y x̄=58.3. Compare la longitud con la obtenida en b). \n",
    "* d) Que tan grande debería ser _n_ para que la longitud del intervalo de confianza del 99% para μ sea de a lo sumo 1?"
   ]
  },
  {
   "cell_type": "code",
   "execution_count": 3,
   "metadata": {},
   "outputs": [
    {
     "name": "stdout",
     "output_type": "stream",
     "text": [
      "a) ('57.124', '59.476')\n",
      "b) ('57.712', '58.888')\n",
      "   longitudB = 0.50 * longitudA\n",
      "c) ('57.527', '59.072')\n",
      "   longitudC = 1.31 * longitudB\n",
      "d) n >= 239\n"
     ]
    }
   ],
   "source": [
    "p7.ej2()"
   ]
  },
  {
   "cell_type": "markdown",
   "metadata": {},
   "source": [
    "---\n",
    "### Ejercicio 3\n",
    "Un artı́culo analiza el uso de fotografı́a infrarroja en color para la identificación de árboles normales en bosques de pino de Oregon. Para una muestra de 69 árboles sanos, la media muestral de densidad de la capa de tinte fue de 1.028 y la desviación estándar muestral de 0.163.\n",
    "* a) Calcular un intervalo de confianza del 95% para la media poblacional de la densidad de capa de tinte μ para estos pinos.\n",
    "* b) Suponga que los investigadores habı́an hecho una estimación de 0.16 para el valor de s antes de reunir los datos, ¿qué tamaño muestral serı́a necesario para obtener un intervalo de longitud a lo sumo 0.05 y con un nivel de confianza del 95%?\n"
   ]
  },
  {
   "cell_type": "code",
   "execution_count": 4,
   "metadata": {},
   "outputs": [
    {
     "name": "stdout",
     "output_type": "stream",
     "text": [
      "a) (0.99, 1.066)\n",
      "b) n >= 158\n"
     ]
    }
   ],
   "source": [
    "p7.ej3()"
   ]
  },
  {
   "cell_type": "markdown",
   "metadata": {},
   "source": [
    "---\n",
    "### Ejercicio 4\n",
    "Se seleccionó una muestra aleatoria de 539 sujetos pertenecientes a cierta ciudad. Se determinó que 133 de ellos poseı́an por lo menos un arma de fuego.\n",
    "* a) Determine un intervalo de confianza del 98 % para la verdadera proporción de propietarios de armas en esa ciudad.\n",
    "* b) ¿Qué tamaño de muestra serı́a necesario para obtener un intervalo de longitud a lo sumo 0.10 y con un nivel de confianza del 98 %, independiente del p̂?"
   ]
  },
  {
   "cell_type": "code",
   "execution_count": 5,
   "metadata": {},
   "outputs": [
    {
     "name": "stdout",
     "output_type": "stream",
     "text": [
      "a) (0.204, 0.29)\n",
      "b) n >= 403\n"
     ]
    }
   ],
   "source": [
    "p7.ej4()"
   ]
  },
  {
   "cell_type": "markdown",
   "metadata": {},
   "source": [
    "---\n",
    "### Ejercicio 5\n",
    "Un triatlón es una competencia deportiva que incluye pruebas de natación, ciclismo y carrera. Un artı́culo reporta una investigación donde participaron triatletas hombres. Se registraron las máximas pulsaciones del corazón (latidos/minutos) durante la actuación en cada uno de los tres eventos. En natación, la media y desviación estándar muestrales fueron 188.0 y 7.2, respectivamente. Se supone que la distribución del ritmo cardı́aco es aproximadamente normal.\n",
    "* a) Si participaron 40 atletas:\n",
    "    - i) determine un intervalo de confianza del 98 % para la media poblacional de ritmo cardı́aco en la prueba de natación.\n",
    "    - ii) determine un intervalo de confianza del 98 % para la varianza poblacional de ritmo cardı́aco en la prueba de natación.\n",
    "* b) Si participaron 9 atletas:\n",
    "    - i) determine un intervalo de confianza del 95% para la media poblacional de ritmo cardı́aco en la prueba de natación.\n",
    "    - ii) determine un intervalo de confianza del 95% para la varianza poblacional de ritmo cardı́aco en la prueba de natación."
   ]
  },
  {
   "cell_type": "code",
   "execution_count": 6,
   "metadata": {},
   "outputs": [
    {
     "name": "stdout",
     "output_type": "stream",
     "text": [
      "a)\n",
      "   i) (185.352, 190.648)\n",
      "   ii) (85.471, 34.786)\n",
      "b)\n",
      "   i) (182.466, 193.534)\n",
      "   ii) (190.262, 23.652)\n"
     ]
    }
   ],
   "source": [
    "p7.ej5()"
   ]
  },
  {
   "cell_type": "markdown",
   "metadata": {},
   "source": [
    "@mauroebordon"
   ]
  }
 ],
 "metadata": {
  "kernelspec": {
   "display_name": "Python 3",
   "language": "python",
   "name": "python3"
  },
  "language_info": {
   "codemirror_mode": {
    "name": "ipython",
    "version": 3
   },
   "file_extension": ".py",
   "mimetype": "text/x-python",
   "name": "python",
   "nbconvert_exporter": "python",
   "pygments_lexer": "ipython3",
   "version": "3.6.9"
  }
 },
 "nbformat": 4,
 "nbformat_minor": 4
}
